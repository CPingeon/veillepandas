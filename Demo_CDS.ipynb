{
 "cells": [
  {
   "cell_type": "markdown",
   "metadata": {},
   "source": [
    "## Démo de l'utilisation de Pandas sur un dataset particulier"
   ]
  },
  {
   "cell_type": "code",
   "execution_count": 1,
   "metadata": {},
   "outputs": [],
   "source": [
    "import numpy as np\n",
    "import matplotlib.pyplot as plt\n",
    "import pandas as pd"
   ]
  },
  {
   "cell_type": "markdown",
   "metadata": {},
   "source": [
    "#### *Numpy est une bibliothèque pour langage de programmation Python, destinée à manipuler des matrices ou tableaux multidimensionnels ainsi que des fonctions mathématiques opérant sur ces tableaux. C'est est la base de SciPy, regroupement de bibliothèques Python autour du calcul scientifique.*"
   ]
  },
  {
   "cell_type": "markdown",
   "metadata": {},
   "source": [
    "#### *Matplotlib est une bibliothèque du langage de programmation Python destinée à tracer et visualiser des données sous formes de graphiques5. Elle peut être combinée avec les bibliothèques python de calcul scientifique NumPy et SciPy.*"
   ]
  },
  {
   "cell_type": "markdown",
   "metadata": {},
   "source": [
    "#### *Pandas est une bibliothèque écrite pour le langage de programmation Python permettant la manipulation et l'analyse des données. Elle propose en particulier des structures de données et des opérations de manipulation de tableaux numériques et de séries temporelles.*"
   ]
  },
  {
   "cell_type": "markdown",
   "metadata": {},
   "source": [
    "---"
   ]
  },
  {
   "cell_type": "markdown",
   "metadata": {},
   "source": [
    "### Lecture d'un fichier au format Excel"
   ]
  },
  {
   "cell_type": "code",
   "execution_count": 2,
   "metadata": {},
   "outputs": [
    {
     "data": {
      "text/html": [
       "<div>\n",
       "<style scoped>\n",
       "    .dataframe tbody tr th:only-of-type {\n",
       "        vertical-align: middle;\n",
       "    }\n",
       "\n",
       "    .dataframe tbody tr th {\n",
       "        vertical-align: top;\n",
       "    }\n",
       "\n",
       "    .dataframe thead th {\n",
       "        text-align: right;\n",
       "    }\n",
       "</style>\n",
       "<table border=\"1\" class=\"dataframe\">\n",
       "  <thead>\n",
       "    <tr style=\"text-align: right;\">\n",
       "      <th></th>\n",
       "      <th>Groupe</th>\n",
       "      <th>Album</th>\n",
       "      <th>Année</th>\n",
       "      <th>Label</th>\n",
       "      <th>Format</th>\n",
       "      <th>Live</th>\n",
       "      <th>Durée</th>\n",
       "      <th>Morceaux</th>\n",
       "      <th>Pays</th>\n",
       "      <th>Etats (USA)</th>\n",
       "      <th>Genre</th>\n",
       "    </tr>\n",
       "  </thead>\n",
       "  <tbody>\n",
       "    <tr>\n",
       "      <th>0</th>\n",
       "      <td>A Perfect Circle</td>\n",
       "      <td>Eat the Elephant</td>\n",
       "      <td>2018</td>\n",
       "      <td>BMG</td>\n",
       "      <td>Digipack</td>\n",
       "      <td>Non</td>\n",
       "      <td>00:57:01</td>\n",
       "      <td>12</td>\n",
       "      <td>Etats-Unis</td>\n",
       "      <td>Californie</td>\n",
       "      <td>Rock</td>\n",
       "    </tr>\n",
       "    <tr>\n",
       "      <th>1</th>\n",
       "      <td>Abba</td>\n",
       "      <td>18 Hits</td>\n",
       "      <td>2015</td>\n",
       "      <td>Universal</td>\n",
       "      <td>Digipack</td>\n",
       "      <td>Non</td>\n",
       "      <td>01:08:47</td>\n",
       "      <td>18</td>\n",
       "      <td>Suède</td>\n",
       "      <td>NaN</td>\n",
       "      <td>Pop</td>\n",
       "    </tr>\n",
       "    <tr>\n",
       "      <th>2</th>\n",
       "      <td>Amon Amarth</td>\n",
       "      <td>Jomsviking</td>\n",
       "      <td>2016</td>\n",
       "      <td>Metal Blade Records</td>\n",
       "      <td>Simple</td>\n",
       "      <td>Non</td>\n",
       "      <td>00:52:12</td>\n",
       "      <td>11</td>\n",
       "      <td>Suède</td>\n",
       "      <td>NaN</td>\n",
       "      <td>Metal</td>\n",
       "    </tr>\n",
       "    <tr>\n",
       "      <th>3</th>\n",
       "      <td>Amorphis</td>\n",
       "      <td>Under the Red Cloud</td>\n",
       "      <td>2015</td>\n",
       "      <td>Nuclear Blast</td>\n",
       "      <td>Simple</td>\n",
       "      <td>Non</td>\n",
       "      <td>00:49:59</td>\n",
       "      <td>10</td>\n",
       "      <td>Finlande</td>\n",
       "      <td>NaN</td>\n",
       "      <td>Metal</td>\n",
       "    </tr>\n",
       "    <tr>\n",
       "      <th>4</th>\n",
       "      <td>Apocalyptica</td>\n",
       "      <td>Shadowmaker</td>\n",
       "      <td>2015</td>\n",
       "      <td>Odyssey Music Network</td>\n",
       "      <td>Digipack</td>\n",
       "      <td>Non</td>\n",
       "      <td>01:05:09</td>\n",
       "      <td>12</td>\n",
       "      <td>Finlande</td>\n",
       "      <td>NaN</td>\n",
       "      <td>Metal</td>\n",
       "    </tr>\n",
       "    <tr>\n",
       "      <th>...</th>\n",
       "      <td>...</td>\n",
       "      <td>...</td>\n",
       "      <td>...</td>\n",
       "      <td>...</td>\n",
       "      <td>...</td>\n",
       "      <td>...</td>\n",
       "      <td>...</td>\n",
       "      <td>...</td>\n",
       "      <td>...</td>\n",
       "      <td>...</td>\n",
       "      <td>...</td>\n",
       "    </tr>\n",
       "    <tr>\n",
       "      <th>426</th>\n",
       "      <td>We Butter the Bread with Butter</td>\n",
       "      <td>Goldkinder</td>\n",
       "      <td>2013</td>\n",
       "      <td>Icarus</td>\n",
       "      <td>Simple</td>\n",
       "      <td>Non</td>\n",
       "      <td>00:51:13</td>\n",
       "      <td>13</td>\n",
       "      <td>Allemagne</td>\n",
       "      <td>NaN</td>\n",
       "      <td>Metal</td>\n",
       "    </tr>\n",
       "    <tr>\n",
       "      <th>427</th>\n",
       "      <td>Whitechapel</td>\n",
       "      <td>The Valley</td>\n",
       "      <td>2019</td>\n",
       "      <td>Metal Blade Records</td>\n",
       "      <td>Digipack</td>\n",
       "      <td>Non</td>\n",
       "      <td>00:40:33</td>\n",
       "      <td>12</td>\n",
       "      <td>Etats-Unis</td>\n",
       "      <td>Tennessee</td>\n",
       "      <td>Metal</td>\n",
       "    </tr>\n",
       "    <tr>\n",
       "      <th>428</th>\n",
       "      <td>Woodkid</td>\n",
       "      <td>The Golden Age</td>\n",
       "      <td>2013</td>\n",
       "      <td>Pias</td>\n",
       "      <td>Digipack</td>\n",
       "      <td>Non</td>\n",
       "      <td>00:48:35</td>\n",
       "      <td>14</td>\n",
       "      <td>France</td>\n",
       "      <td>NaN</td>\n",
       "      <td>Pop</td>\n",
       "    </tr>\n",
       "    <tr>\n",
       "      <th>429</th>\n",
       "      <td>Woodkid</td>\n",
       "      <td>The Golden Age (Deluxe)</td>\n",
       "      <td>2013</td>\n",
       "      <td>Pias</td>\n",
       "      <td>Livre</td>\n",
       "      <td>Non</td>\n",
       "      <td>00:48:35</td>\n",
       "      <td>14</td>\n",
       "      <td>France</td>\n",
       "      <td>NaN</td>\n",
       "      <td>Pop</td>\n",
       "    </tr>\n",
       "    <tr>\n",
       "      <th>430</th>\n",
       "      <td>Yes</td>\n",
       "      <td>Highlights : The Very Best of Yes</td>\n",
       "      <td>1993</td>\n",
       "      <td>Atlantic</td>\n",
       "      <td>Simple</td>\n",
       "      <td>Non</td>\n",
       "      <td>01:06:11</td>\n",
       "      <td>12</td>\n",
       "      <td>Angleterre</td>\n",
       "      <td>NaN</td>\n",
       "      <td>Rock</td>\n",
       "    </tr>\n",
       "  </tbody>\n",
       "</table>\n",
       "<p>431 rows × 11 columns</p>\n",
       "</div>"
      ],
      "text/plain": [
       "                              Groupe                              Album  \\\n",
       "0                   A Perfect Circle                   Eat the Elephant   \n",
       "1                               Abba                            18 Hits   \n",
       "2                        Amon Amarth                         Jomsviking   \n",
       "3                           Amorphis                Under the Red Cloud   \n",
       "4                       Apocalyptica                        Shadowmaker   \n",
       "..                               ...                                ...   \n",
       "426  We Butter the Bread with Butter                         Goldkinder   \n",
       "427                      Whitechapel                         The Valley   \n",
       "428                          Woodkid                     The Golden Age   \n",
       "429                          Woodkid            The Golden Age (Deluxe)   \n",
       "430                              Yes  Highlights : The Very Best of Yes   \n",
       "\n",
       "     Année                  Label    Format Live     Durée  Morceaux  \\\n",
       "0     2018                    BMG  Digipack  Non  00:57:01        12   \n",
       "1     2015              Universal  Digipack  Non  01:08:47        18   \n",
       "2     2016    Metal Blade Records    Simple  Non  00:52:12        11   \n",
       "3     2015          Nuclear Blast    Simple  Non  00:49:59        10   \n",
       "4     2015  Odyssey Music Network  Digipack  Non  01:05:09        12   \n",
       "..     ...                    ...       ...  ...       ...       ...   \n",
       "426   2013                 Icarus    Simple  Non  00:51:13        13   \n",
       "427   2019    Metal Blade Records  Digipack  Non  00:40:33        12   \n",
       "428   2013                   Pias  Digipack  Non  00:48:35        14   \n",
       "429   2013                   Pias     Livre  Non  00:48:35        14   \n",
       "430   1993               Atlantic    Simple  Non  01:06:11        12   \n",
       "\n",
       "           Pays Etats (USA)  Genre  \n",
       "0    Etats-Unis  Californie   Rock  \n",
       "1         Suède         NaN    Pop  \n",
       "2         Suède         NaN  Metal  \n",
       "3      Finlande         NaN  Metal  \n",
       "4      Finlande         NaN  Metal  \n",
       "..          ...         ...    ...  \n",
       "426   Allemagne         NaN  Metal  \n",
       "427  Etats-Unis   Tennessee  Metal  \n",
       "428      France         NaN    Pop  \n",
       "429      France         NaN    Pop  \n",
       "430  Angleterre         NaN   Rock  \n",
       "\n",
       "[431 rows x 11 columns]"
      ]
     },
     "execution_count": 2,
     "metadata": {},
     "output_type": "execute_result"
    }
   ],
   "source": [
    "pd.read_excel(\"./data/cds.xls\")"
   ]
  },
  {
   "cell_type": "code",
   "execution_count": 3,
   "metadata": {},
   "outputs": [],
   "source": [
    "data = pd.read_excel(\"./data/cds.xls\")"
   ]
  },
  {
   "cell_type": "code",
   "execution_count": null,
   "metadata": {},
   "outputs": [],
   "source": [
    "w_data = data.to_excel(\"./data/cds.xls\")"
   ]
  },
  {
   "cell_type": "markdown",
   "metadata": {},
   "source": [
    "---"
   ]
  },
  {
   "cell_type": "markdown",
   "metadata": {},
   "source": [
    "### Nombre de lignes et colonnes"
   ]
  },
  {
   "cell_type": "code",
   "execution_count": 4,
   "metadata": {},
   "outputs": [
    {
     "data": {
      "text/plain": [
       "(431, 11)"
      ]
     },
     "execution_count": 4,
     "metadata": {},
     "output_type": "execute_result"
    }
   ],
   "source": [
    "data.shape"
   ]
  },
  {
   "cell_type": "markdown",
   "metadata": {},
   "source": [
    "---"
   ]
  },
  {
   "cell_type": "markdown",
   "metadata": {},
   "source": [
    "### Affichage du nom des colonnes"
   ]
  },
  {
   "cell_type": "code",
   "execution_count": 5,
   "metadata": {},
   "outputs": [
    {
     "data": {
      "text/plain": [
       "Index(['Groupe', 'Album', 'Année', 'Label', 'Format', 'Live', 'Durée',\n",
       "       'Morceaux', 'Pays', 'Etats (USA)', 'Genre'],\n",
       "      dtype='object')"
      ]
     },
     "execution_count": 5,
     "metadata": {},
     "output_type": "execute_result"
    }
   ],
   "source": [
    "data.columns"
   ]
  },
  {
   "cell_type": "markdown",
   "metadata": {},
   "source": [
    "---"
   ]
  },
  {
   "cell_type": "markdown",
   "metadata": {},
   "source": [
    "### Abandon de certaines colonnes"
   ]
  },
  {
   "cell_type": "code",
   "execution_count": 10,
   "metadata": {},
   "outputs": [],
   "source": [
    "data = data.drop([\"Format\", \"Live\", \"Durée\", \"Morceaux\", \"Etats (USA)\"], axis=1)\n",
    "# ou data[['Groupe','Album', 'Année', 'Label', 'Pays', 'Genre']] peut être utilisé\n",
    "# si l'on préfère spécifier les colonnes à garder plutôt que celles à retirer"
   ]
  },
  {
   "cell_type": "markdown",
   "metadata": {},
   "source": [
    "---"
   ]
  },
  {
   "cell_type": "markdown",
   "metadata": {},
   "source": [
    "### Axis ?"
   ]
  },
  {
   "cell_type": "code",
   "execution_count": 7,
   "metadata": {},
   "outputs": [
    {
     "data": {
      "image/jpeg": "[encoded data removed]",
      "text/plain": [
       "<IPython.core.display.Image object>"
      ]
     },
     "execution_count": 7,
     "metadata": {},
     "output_type": "execute_result"
    }
   ],
   "source": [
    "from IPython.display import Image\n",
    "Image(\"Snaps/01.jpg\")"
   ]
  },
  {
   "cell_type": "markdown",
   "metadata": {},
   "source": [
    "---"
   ]
  },
  {
   "cell_type": "markdown",
   "metadata": {},
   "source": [
    "### Vérification de la commande précédente"
   ]
  },
  {
   "cell_type": "code",
   "execution_count": 11,
   "metadata": {},
   "outputs": [
    {
     "data": {
      "text/html": [
       "<div>\n",
       "<style scoped>\n",
       "    .dataframe tbody tr th:only-of-type {\n",
       "        vertical-align: middle;\n",
       "    }\n",
       "\n",
       "    .dataframe tbody tr th {\n",
       "        vertical-align: top;\n",
       "    }\n",
       "\n",
       "    .dataframe thead th {\n",
       "        text-align: right;\n",
       "    }\n",
       "</style>\n",
       "<table border=\"1\" class=\"dataframe\">\n",
       "  <thead>\n",
       "    <tr style=\"text-align: right;\">\n",
       "      <th></th>\n",
       "      <th>Groupe</th>\n",
       "      <th>Album</th>\n",
       "      <th>Année</th>\n",
       "      <th>Label</th>\n",
       "      <th>Pays</th>\n",
       "      <th>Genre</th>\n",
       "    </tr>\n",
       "  </thead>\n",
       "  <tbody>\n",
       "    <tr>\n",
       "      <th>0</th>\n",
       "      <td>A Perfect Circle</td>\n",
       "      <td>Eat the Elephant</td>\n",
       "      <td>2018</td>\n",
       "      <td>BMG</td>\n",
       "      <td>Etats-Unis</td>\n",
       "      <td>Rock</td>\n",
       "    </tr>\n",
       "    <tr>\n",
       "      <th>1</th>\n",
       "      <td>Abba</td>\n",
       "      <td>18 Hits</td>\n",
       "      <td>2015</td>\n",
       "      <td>Universal</td>\n",
       "      <td>Suède</td>\n",
       "      <td>Pop</td>\n",
       "    </tr>\n",
       "    <tr>\n",
       "      <th>2</th>\n",
       "      <td>Amon Amarth</td>\n",
       "      <td>Jomsviking</td>\n",
       "      <td>2016</td>\n",
       "      <td>Metal Blade Records</td>\n",
       "      <td>Suède</td>\n",
       "      <td>Metal</td>\n",
       "    </tr>\n",
       "    <tr>\n",
       "      <th>3</th>\n",
       "      <td>Amorphis</td>\n",
       "      <td>Under the Red Cloud</td>\n",
       "      <td>2015</td>\n",
       "      <td>Nuclear Blast</td>\n",
       "      <td>Finlande</td>\n",
       "      <td>Metal</td>\n",
       "    </tr>\n",
       "    <tr>\n",
       "      <th>4</th>\n",
       "      <td>Apocalyptica</td>\n",
       "      <td>Shadowmaker</td>\n",
       "      <td>2015</td>\n",
       "      <td>Odyssey Music Network</td>\n",
       "      <td>Finlande</td>\n",
       "      <td>Metal</td>\n",
       "    </tr>\n",
       "  </tbody>\n",
       "</table>\n",
       "</div>"
      ],
      "text/plain": [
       "             Groupe                Album  Année                  Label  \\\n",
       "0  A Perfect Circle     Eat the Elephant   2018                    BMG   \n",
       "1              Abba              18 Hits   2015              Universal   \n",
       "2       Amon Amarth           Jomsviking   2016    Metal Blade Records   \n",
       "3          Amorphis  Under the Red Cloud   2015          Nuclear Blast   \n",
       "4      Apocalyptica          Shadowmaker   2015  Odyssey Music Network   \n",
       "\n",
       "         Pays  Genre  \n",
       "0  Etats-Unis   Rock  \n",
       "1       Suède    Pop  \n",
       "2       Suède  Metal  \n",
       "3    Finlande  Metal  \n",
       "4    Finlande  Metal  "
      ]
     },
     "execution_count": 11,
     "metadata": {},
     "output_type": "execute_result"
    }
   ],
   "source": [
    "data.head()"
   ]
  },
  {
   "cell_type": "code",
   "execution_count": 12,
   "metadata": {},
   "outputs": [
    {
     "data": {
      "text/plain": [
       "(431, 6)"
      ]
     },
     "execution_count": 12,
     "metadata": {},
     "output_type": "execute_result"
    }
   ],
   "source": [
    "data.shape"
   ]
  },
  {
   "cell_type": "markdown",
   "metadata": {},
   "source": [
    "---"
   ]
  },
  {
   "cell_type": "markdown",
   "metadata": {},
   "source": [
    "### Count des valeurs les plus présentes dans \"Groupe\""
   ]
  },
  {
   "cell_type": "code",
   "execution_count": 13,
   "metadata": {},
   "outputs": [
    {
     "data": {
      "text/plain": [
       "Pendulum         19\n",
       "Muse             15\n",
       "Iron Maiden      13\n",
       "Coldplay         12\n",
       "Kasabian         11\n",
       "                 ..\n",
       "Kaiser Chiefs     1\n",
       "Gone is Gone      1\n",
       "David Gilmour     1\n",
       "Yes               1\n",
       "Gorillaz          1\n",
       "Name: Groupe, Length: 152, dtype: int64"
      ]
     },
     "execution_count": 13,
     "metadata": {},
     "output_type": "execute_result"
    }
   ],
   "source": [
    "data[\"Groupe\"].value_counts()"
   ]
  },
  {
   "cell_type": "markdown",
   "metadata": {},
   "source": [
    "---"
   ]
  },
  {
   "cell_type": "markdown",
   "metadata": {},
   "source": [
    "### Combiné avec MatPlotLib"
   ]
  },
  {
   "cell_type": "code",
   "execution_count": 14,
   "metadata": {},
   "outputs": [
    {
     "data": {
      "text/plain": [
       "<AxesSubplot:>"
      ]
     },
     "execution_count": 14,
     "metadata": {},
     "output_type": "execute_result"
    },
    {
     "data": {
      "image/png": "[encoded data removed]",
      "text/plain": [
       "<Figure size 432x288 with 1 Axes>"
      ]
     },
     "metadata": {
      "needs_background": "light"
     },
     "output_type": "display_data"
    }
   ],
   "source": [
    "data[\"Pays\"].value_counts().plot.bar()"
   ]
  },
  {
   "cell_type": "markdown",
   "metadata": {},
   "source": [
    "---"
   ]
  },
  {
   "cell_type": "markdown",
   "metadata": {},
   "source": [
    "### Affichage de valeurs par leurs positions"
   ]
  },
  {
   "cell_type": "code",
   "execution_count": 15,
   "metadata": {},
   "outputs": [
    {
     "data": {
      "text/html": [
       "<div>\n",
       "<style scoped>\n",
       "    .dataframe tbody tr th:only-of-type {\n",
       "        vertical-align: middle;\n",
       "    }\n",
       "\n",
       "    .dataframe tbody tr th {\n",
       "        vertical-align: top;\n",
       "    }\n",
       "\n",
       "    .dataframe thead th {\n",
       "        text-align: right;\n",
       "    }\n",
       "</style>\n",
       "<table border=\"1\" class=\"dataframe\">\n",
       "  <thead>\n",
       "    <tr style=\"text-align: right;\">\n",
       "      <th></th>\n",
       "      <th>Groupe</th>\n",
       "      <th>Album</th>\n",
       "      <th>Année</th>\n",
       "      <th>Label</th>\n",
       "      <th>Pays</th>\n",
       "      <th>Genre</th>\n",
       "    </tr>\n",
       "  </thead>\n",
       "  <tbody>\n",
       "    <tr>\n",
       "      <th>125</th>\n",
       "      <td>Gojira</td>\n",
       "      <td>The Way of all Flesh</td>\n",
       "      <td>2008</td>\n",
       "      <td>Listenable</td>\n",
       "      <td>France</td>\n",
       "      <td>Metal</td>\n",
       "    </tr>\n",
       "    <tr>\n",
       "      <th>126</th>\n",
       "      <td>Gojira</td>\n",
       "      <td>The Flesh Alive</td>\n",
       "      <td>2012</td>\n",
       "      <td>Mascot</td>\n",
       "      <td>France</td>\n",
       "      <td>Metal</td>\n",
       "    </tr>\n",
       "    <tr>\n",
       "      <th>127</th>\n",
       "      <td>Gojira</td>\n",
       "      <td>L'Enfant Sauvage</td>\n",
       "      <td>2012</td>\n",
       "      <td>Roadrunner</td>\n",
       "      <td>France</td>\n",
       "      <td>Metal</td>\n",
       "    </tr>\n",
       "    <tr>\n",
       "      <th>128</th>\n",
       "      <td>Gojira</td>\n",
       "      <td>Magma</td>\n",
       "      <td>2016</td>\n",
       "      <td>Roadrunner</td>\n",
       "      <td>France</td>\n",
       "      <td>Metal</td>\n",
       "    </tr>\n",
       "    <tr>\n",
       "      <th>129</th>\n",
       "      <td>Gone is Gone</td>\n",
       "      <td>Echolocation</td>\n",
       "      <td>2017</td>\n",
       "      <td>Rise Records</td>\n",
       "      <td>Etats-Unis</td>\n",
       "      <td>Metal</td>\n",
       "    </tr>\n",
       "    <tr>\n",
       "      <th>130</th>\n",
       "      <td>Gorillaz</td>\n",
       "      <td>Gorillaz</td>\n",
       "      <td>2001</td>\n",
       "      <td>Parlophone</td>\n",
       "      <td>Angleterre</td>\n",
       "      <td>Electro</td>\n",
       "    </tr>\n",
       "    <tr>\n",
       "      <th>131</th>\n",
       "      <td>Hacktivist</td>\n",
       "      <td>Outside the Box</td>\n",
       "      <td>2016</td>\n",
       "      <td>UNFD</td>\n",
       "      <td>Angleterre</td>\n",
       "      <td>Metal</td>\n",
       "    </tr>\n",
       "    <tr>\n",
       "      <th>132</th>\n",
       "      <td>Haken</td>\n",
       "      <td>Vector</td>\n",
       "      <td>2018</td>\n",
       "      <td>Inside Out</td>\n",
       "      <td>Angleterre</td>\n",
       "      <td>Metal</td>\n",
       "    </tr>\n",
       "    <tr>\n",
       "      <th>133</th>\n",
       "      <td>Haken</td>\n",
       "      <td>Virus</td>\n",
       "      <td>2020</td>\n",
       "      <td>Inside Out</td>\n",
       "      <td>Angleterre</td>\n",
       "      <td>Metal</td>\n",
       "    </tr>\n",
       "    <tr>\n",
       "      <th>134</th>\n",
       "      <td>Hard-Fi</td>\n",
       "      <td>Stars of the CCTV</td>\n",
       "      <td>2005</td>\n",
       "      <td>Necessary Records</td>\n",
       "      <td>Angleterre</td>\n",
       "      <td>Rock</td>\n",
       "    </tr>\n",
       "    <tr>\n",
       "      <th>135</th>\n",
       "      <td>Hatebreed</td>\n",
       "      <td>The Concrete Confessional</td>\n",
       "      <td>2016</td>\n",
       "      <td>Nuclear Blast</td>\n",
       "      <td>Etats-Unis</td>\n",
       "      <td>Metal</td>\n",
       "    </tr>\n",
       "    <tr>\n",
       "      <th>136</th>\n",
       "      <td>Heaven Shall Burn</td>\n",
       "      <td>Of Truth and Sacrifice</td>\n",
       "      <td>2020</td>\n",
       "      <td>Century Media</td>\n",
       "      <td>Allemagne</td>\n",
       "      <td>Metal</td>\n",
       "    </tr>\n",
       "    <tr>\n",
       "      <th>137</th>\n",
       "      <td>Housse de Racket</td>\n",
       "      <td>Alesia</td>\n",
       "      <td>2011</td>\n",
       "      <td>Kitsuné</td>\n",
       "      <td>France</td>\n",
       "      <td>Rock</td>\n",
       "    </tr>\n",
       "    <tr>\n",
       "      <th>138</th>\n",
       "      <td>In Flames</td>\n",
       "      <td>The Jester Race + Black-Ash Inheritance</td>\n",
       "      <td>1996</td>\n",
       "      <td>Century Media</td>\n",
       "      <td>Suède</td>\n",
       "      <td>Metal</td>\n",
       "    </tr>\n",
       "    <tr>\n",
       "      <th>139</th>\n",
       "      <td>In Flames</td>\n",
       "      <td>Clayman</td>\n",
       "      <td>2000</td>\n",
       "      <td>Century Media</td>\n",
       "      <td>Suède</td>\n",
       "      <td>Metal</td>\n",
       "    </tr>\n",
       "    <tr>\n",
       "      <th>140</th>\n",
       "      <td>In Flames</td>\n",
       "      <td>Reroute to Remain</td>\n",
       "      <td>2002</td>\n",
       "      <td>Century Media</td>\n",
       "      <td>Suède</td>\n",
       "      <td>Metal</td>\n",
       "    </tr>\n",
       "    <tr>\n",
       "      <th>141</th>\n",
       "      <td>In Flames</td>\n",
       "      <td>Soundtrack to Your Escape</td>\n",
       "      <td>2004</td>\n",
       "      <td>Century Media</td>\n",
       "      <td>Suède</td>\n",
       "      <td>Metal</td>\n",
       "    </tr>\n",
       "    <tr>\n",
       "      <th>142</th>\n",
       "      <td>In Flames</td>\n",
       "      <td>Sounds of a Playground Fading</td>\n",
       "      <td>2011</td>\n",
       "      <td>Century Media</td>\n",
       "      <td>Suède</td>\n",
       "      <td>Metal</td>\n",
       "    </tr>\n",
       "    <tr>\n",
       "      <th>143</th>\n",
       "      <td>In Flames</td>\n",
       "      <td>Sounds of a Playground Fading (Deluxe Edition)</td>\n",
       "      <td>2011</td>\n",
       "      <td>Century Media</td>\n",
       "      <td>Suède</td>\n",
       "      <td>Metal</td>\n",
       "    </tr>\n",
       "    <tr>\n",
       "      <th>144</th>\n",
       "      <td>In Flames</td>\n",
       "      <td>Sounds from the Heart of Gothenburg</td>\n",
       "      <td>2016</td>\n",
       "      <td>Nuclear Blast</td>\n",
       "      <td>Suède</td>\n",
       "      <td>Metal</td>\n",
       "    </tr>\n",
       "  </tbody>\n",
       "</table>\n",
       "</div>"
      ],
      "text/plain": [
       "                Groupe                                           Album  Année  \\\n",
       "125             Gojira                            The Way of all Flesh   2008   \n",
       "126             Gojira                                 The Flesh Alive   2012   \n",
       "127             Gojira                                L'Enfant Sauvage   2012   \n",
       "128             Gojira                                           Magma   2016   \n",
       "129       Gone is Gone                                    Echolocation   2017   \n",
       "130           Gorillaz                                        Gorillaz   2001   \n",
       "131         Hacktivist                                 Outside the Box   2016   \n",
       "132              Haken                                          Vector   2018   \n",
       "133              Haken                                           Virus   2020   \n",
       "134            Hard-Fi                               Stars of the CCTV   2005   \n",
       "135          Hatebreed                       The Concrete Confessional   2016   \n",
       "136  Heaven Shall Burn                          Of Truth and Sacrifice   2020   \n",
       "137   Housse de Racket                                          Alesia   2011   \n",
       "138          In Flames         The Jester Race + Black-Ash Inheritance   1996   \n",
       "139          In Flames                                         Clayman   2000   \n",
       "140          In Flames                               Reroute to Remain   2002   \n",
       "141          In Flames                       Soundtrack to Your Escape   2004   \n",
       "142          In Flames                   Sounds of a Playground Fading   2011   \n",
       "143          In Flames  Sounds of a Playground Fading (Deluxe Edition)   2011   \n",
       "144          In Flames             Sounds from the Heart of Gothenburg   2016   \n",
       "\n",
       "                 Label        Pays    Genre  \n",
       "125         Listenable      France    Metal  \n",
       "126             Mascot      France    Metal  \n",
       "127         Roadrunner      France    Metal  \n",
       "128         Roadrunner      France    Metal  \n",
       "129       Rise Records  Etats-Unis    Metal  \n",
       "130         Parlophone  Angleterre  Electro  \n",
       "131               UNFD  Angleterre    Metal  \n",
       "132         Inside Out  Angleterre    Metal  \n",
       "133         Inside Out  Angleterre    Metal  \n",
       "134  Necessary Records  Angleterre     Rock  \n",
       "135      Nuclear Blast  Etats-Unis    Metal  \n",
       "136      Century Media   Allemagne    Metal  \n",
       "137            Kitsuné      France     Rock  \n",
       "138      Century Media       Suède    Metal  \n",
       "139      Century Media       Suède    Metal  \n",
       "140      Century Media       Suède    Metal  \n",
       "141      Century Media       Suède    Metal  \n",
       "142      Century Media       Suède    Metal  \n",
       "143      Century Media       Suède    Metal  \n",
       "144      Nuclear Blast       Suède    Metal  "
      ]
     },
     "execution_count": 15,
     "metadata": {},
     "output_type": "execute_result"
    }
   ],
   "source": [
    "data.iloc[125:145]"
   ]
  },
  {
   "cell_type": "markdown",
   "metadata": {},
   "source": [
    "---"
   ]
  },
  {
   "cell_type": "markdown",
   "metadata": {},
   "source": [
    "### Affichage d'une donnée précise dans une colonne"
   ]
  },
  {
   "cell_type": "code",
   "execution_count": 16,
   "metadata": {},
   "outputs": [
    {
     "data": {
      "text/html": [
       "<div>\n",
       "<style scoped>\n",
       "    .dataframe tbody tr th:only-of-type {\n",
       "        vertical-align: middle;\n",
       "    }\n",
       "\n",
       "    .dataframe tbody tr th {\n",
       "        vertical-align: top;\n",
       "    }\n",
       "\n",
       "    .dataframe thead th {\n",
       "        text-align: right;\n",
       "    }\n",
       "</style>\n",
       "<table border=\"1\" class=\"dataframe\">\n",
       "  <thead>\n",
       "    <tr style=\"text-align: right;\">\n",
       "      <th></th>\n",
       "      <th>Groupe</th>\n",
       "      <th>Album</th>\n",
       "      <th>Année</th>\n",
       "      <th>Label</th>\n",
       "      <th>Pays</th>\n",
       "      <th>Genre</th>\n",
       "    </tr>\n",
       "  </thead>\n",
       "  <tbody>\n",
       "    <tr>\n",
       "      <th>393</th>\n",
       "      <td>The Beatles</td>\n",
       "      <td>Sgt. Pepper's Lonely Hearts Club Band</td>\n",
       "      <td>1967</td>\n",
       "      <td>Apple</td>\n",
       "      <td>Angleterre</td>\n",
       "      <td>Rock</td>\n",
       "    </tr>\n",
       "    <tr>\n",
       "      <th>394</th>\n",
       "      <td>The Beatles</td>\n",
       "      <td>The Beatles</td>\n",
       "      <td>1968</td>\n",
       "      <td>Apple</td>\n",
       "      <td>Angleterre</td>\n",
       "      <td>Rock</td>\n",
       "    </tr>\n",
       "    <tr>\n",
       "      <th>395</th>\n",
       "      <td>The Beatles</td>\n",
       "      <td>Abbey Road</td>\n",
       "      <td>1969</td>\n",
       "      <td>Apple</td>\n",
       "      <td>Angleterre</td>\n",
       "      <td>Rock</td>\n",
       "    </tr>\n",
       "    <tr>\n",
       "      <th>396</th>\n",
       "      <td>The Beatles</td>\n",
       "      <td>1</td>\n",
       "      <td>2000</td>\n",
       "      <td>Apple</td>\n",
       "      <td>Angleterre</td>\n",
       "      <td>Rock</td>\n",
       "    </tr>\n",
       "    <tr>\n",
       "      <th>397</th>\n",
       "      <td>The Beatles</td>\n",
       "      <td>Love</td>\n",
       "      <td>2006</td>\n",
       "      <td>Apple</td>\n",
       "      <td>Angleterre</td>\n",
       "      <td>Rock</td>\n",
       "    </tr>\n",
       "    <tr>\n",
       "      <th>398</th>\n",
       "      <td>The Beatles</td>\n",
       "      <td>Sgt. Pepper's Lonely Hearts Club Band (50th An...</td>\n",
       "      <td>2017</td>\n",
       "      <td>Apple</td>\n",
       "      <td>Angleterre</td>\n",
       "      <td>Rock</td>\n",
       "    </tr>\n",
       "    <tr>\n",
       "      <th>399</th>\n",
       "      <td>The Beatles</td>\n",
       "      <td>Abbey Road (50th Anniversary)</td>\n",
       "      <td>2019</td>\n",
       "      <td>Apple</td>\n",
       "      <td>Angleterre</td>\n",
       "      <td>Rock</td>\n",
       "    </tr>\n",
       "  </tbody>\n",
       "</table>\n",
       "</div>"
      ],
      "text/plain": [
       "          Groupe                                              Album  Année  \\\n",
       "393  The Beatles              Sgt. Pepper's Lonely Hearts Club Band   1967   \n",
       "394  The Beatles                                        The Beatles   1968   \n",
       "395  The Beatles                                         Abbey Road   1969   \n",
       "396  The Beatles                                                  1   2000   \n",
       "397  The Beatles                                               Love   2006   \n",
       "398  The Beatles  Sgt. Pepper's Lonely Hearts Club Band (50th An...   2017   \n",
       "399  The Beatles                      Abbey Road (50th Anniversary)   2019   \n",
       "\n",
       "     Label        Pays Genre  \n",
       "393  Apple  Angleterre  Rock  \n",
       "394  Apple  Angleterre  Rock  \n",
       "395  Apple  Angleterre  Rock  \n",
       "396  Apple  Angleterre  Rock  \n",
       "397  Apple  Angleterre  Rock  \n",
       "398  Apple  Angleterre  Rock  \n",
       "399  Apple  Angleterre  Rock  "
      ]
     },
     "execution_count": 16,
     "metadata": {},
     "output_type": "execute_result"
    }
   ],
   "source": [
    "data[data['Groupe'].isin(['The Beatles'])]"
   ]
  },
  {
   "cell_type": "markdown",
   "metadata": {},
   "source": [
    "---"
   ]
  },
  {
   "cell_type": "markdown",
   "metadata": {},
   "source": [
    "### Affichage d'une donnée précise dans une colonne V2"
   ]
  },
  {
   "cell_type": "code",
   "execution_count": 17,
   "metadata": {},
   "outputs": [
    {
     "data": {
      "text/html": [
       "<div>\n",
       "<style scoped>\n",
       "    .dataframe tbody tr th:only-of-type {\n",
       "        vertical-align: middle;\n",
       "    }\n",
       "\n",
       "    .dataframe tbody tr th {\n",
       "        vertical-align: top;\n",
       "    }\n",
       "\n",
       "    .dataframe thead th {\n",
       "        text-align: right;\n",
       "    }\n",
       "</style>\n",
       "<table border=\"1\" class=\"dataframe\">\n",
       "  <thead>\n",
       "    <tr style=\"text-align: right;\">\n",
       "      <th></th>\n",
       "      <th>Groupe</th>\n",
       "      <th>Album</th>\n",
       "      <th>Année</th>\n",
       "      <th>Label</th>\n",
       "      <th>Pays</th>\n",
       "      <th>Genre</th>\n",
       "    </tr>\n",
       "  </thead>\n",
       "  <tbody>\n",
       "    <tr>\n",
       "      <th>13</th>\n",
       "      <td>Archive</td>\n",
       "      <td>Versions</td>\n",
       "      <td>2020</td>\n",
       "      <td>Pias</td>\n",
       "      <td>Angleterre</td>\n",
       "      <td>Electro</td>\n",
       "    </tr>\n",
       "    <tr>\n",
       "      <th>23</th>\n",
       "      <td>Avatar</td>\n",
       "      <td>Hunter Gatherer</td>\n",
       "      <td>2020</td>\n",
       "      <td>Century Media</td>\n",
       "      <td>Suède</td>\n",
       "      <td>Metal</td>\n",
       "    </tr>\n",
       "    <tr>\n",
       "      <th>68</th>\n",
       "      <td>Deftones</td>\n",
       "      <td>Ohms</td>\n",
       "      <td>2020</td>\n",
       "      <td>Reprise</td>\n",
       "      <td>Etats-Unis</td>\n",
       "      <td>Metal</td>\n",
       "    </tr>\n",
       "    <tr>\n",
       "      <th>95</th>\n",
       "      <td>Enter Shikari</td>\n",
       "      <td>Nothing is True &amp; Everything is Possible</td>\n",
       "      <td>2020</td>\n",
       "      <td>Ambush Reality</td>\n",
       "      <td>Angleterre</td>\n",
       "      <td>Rock</td>\n",
       "    </tr>\n",
       "    <tr>\n",
       "      <th>133</th>\n",
       "      <td>Haken</td>\n",
       "      <td>Virus</td>\n",
       "      <td>2020</td>\n",
       "      <td>Inside Out</td>\n",
       "      <td>Angleterre</td>\n",
       "      <td>Metal</td>\n",
       "    </tr>\n",
       "    <tr>\n",
       "      <th>136</th>\n",
       "      <td>Heaven Shall Burn</td>\n",
       "      <td>Of Truth and Sacrifice</td>\n",
       "      <td>2020</td>\n",
       "      <td>Century Media</td>\n",
       "      <td>Allemagne</td>\n",
       "      <td>Metal</td>\n",
       "    </tr>\n",
       "    <tr>\n",
       "      <th>241</th>\n",
       "      <td>Mastodon</td>\n",
       "      <td>Medium Rarities</td>\n",
       "      <td>2020</td>\n",
       "      <td>Reprise</td>\n",
       "      <td>Etats-Unis</td>\n",
       "      <td>Metal</td>\n",
       "    </tr>\n",
       "    <tr>\n",
       "      <th>283</th>\n",
       "      <td>Parkway Drive</td>\n",
       "      <td>Viva the Underdogs</td>\n",
       "      <td>2020</td>\n",
       "      <td>Epitaph Records</td>\n",
       "      <td>Australie</td>\n",
       "      <td>Metal</td>\n",
       "    </tr>\n",
       "    <tr>\n",
       "      <th>350</th>\n",
       "      <td>Regarde Les Hommes Tomber</td>\n",
       "      <td>Ascension</td>\n",
       "      <td>2020</td>\n",
       "      <td>Season of Mist</td>\n",
       "      <td>France</td>\n",
       "      <td>Metal</td>\n",
       "    </tr>\n",
       "    <tr>\n",
       "      <th>354</th>\n",
       "      <td>Roger Waters</td>\n",
       "      <td>Us + Them</td>\n",
       "      <td>2020</td>\n",
       "      <td>Sony Music</td>\n",
       "      <td>Angleterre</td>\n",
       "      <td>Rock</td>\n",
       "    </tr>\n",
       "    <tr>\n",
       "      <th>408</th>\n",
       "      <td>The Ocean</td>\n",
       "      <td>Phanerozoic II : Mesozoic | Cenozoic</td>\n",
       "      <td>2020</td>\n",
       "      <td>Metal Blade Records</td>\n",
       "      <td>Allemagne</td>\n",
       "      <td>Metal</td>\n",
       "    </tr>\n",
       "    <tr>\n",
       "      <th>409</th>\n",
       "      <td>The Ocean</td>\n",
       "      <td>Phanerozoic II : Mesozoic | Cenozoic (Instrume...</td>\n",
       "      <td>2020</td>\n",
       "      <td>Metal Blade Records</td>\n",
       "      <td>Allemagne</td>\n",
       "      <td>Metal</td>\n",
       "    </tr>\n",
       "  </tbody>\n",
       "</table>\n",
       "</div>"
      ],
      "text/plain": [
       "                        Groupe  \\\n",
       "13                     Archive   \n",
       "23                      Avatar   \n",
       "68                    Deftones   \n",
       "95               Enter Shikari   \n",
       "133                      Haken   \n",
       "136          Heaven Shall Burn   \n",
       "241                   Mastodon   \n",
       "283              Parkway Drive   \n",
       "350  Regarde Les Hommes Tomber   \n",
       "354               Roger Waters   \n",
       "408                  The Ocean   \n",
       "409                  The Ocean   \n",
       "\n",
       "                                                 Album  Année  \\\n",
       "13                                            Versions   2020   \n",
       "23                                     Hunter Gatherer   2020   \n",
       "68                                                Ohms   2020   \n",
       "95            Nothing is True & Everything is Possible   2020   \n",
       "133                                              Virus   2020   \n",
       "136                             Of Truth and Sacrifice   2020   \n",
       "241                                    Medium Rarities   2020   \n",
       "283                                 Viva the Underdogs   2020   \n",
       "350                                          Ascension   2020   \n",
       "354                                          Us + Them   2020   \n",
       "408               Phanerozoic II : Mesozoic | Cenozoic   2020   \n",
       "409  Phanerozoic II : Mesozoic | Cenozoic (Instrume...   2020   \n",
       "\n",
       "                   Label        Pays    Genre  \n",
       "13                  Pias  Angleterre  Electro  \n",
       "23         Century Media       Suède    Metal  \n",
       "68               Reprise  Etats-Unis    Metal  \n",
       "95        Ambush Reality  Angleterre     Rock  \n",
       "133           Inside Out  Angleterre    Metal  \n",
       "136        Century Media   Allemagne    Metal  \n",
       "241              Reprise  Etats-Unis    Metal  \n",
       "283      Epitaph Records   Australie    Metal  \n",
       "350       Season of Mist      France    Metal  \n",
       "354           Sony Music  Angleterre     Rock  \n",
       "408  Metal Blade Records   Allemagne    Metal  \n",
       "409  Metal Blade Records   Allemagne    Metal  "
      ]
     },
     "execution_count": 17,
     "metadata": {},
     "output_type": "execute_result"
    }
   ],
   "source": [
    "data[data[\"Année\"] == 2020]"
   ]
  },
  {
   "cell_type": "markdown",
   "metadata": {},
   "source": [
    "---"
   ]
  },
  {
   "cell_type": "markdown",
   "metadata": {},
   "source": [
    "### Tri par condition (albums sortis avant 1980)"
   ]
  },
  {
   "cell_type": "code",
   "execution_count": 18,
   "metadata": {},
   "outputs": [
    {
     "data": {
      "text/html": [
       "<div>\n",
       "<style scoped>\n",
       "    .dataframe tbody tr th:only-of-type {\n",
       "        vertical-align: middle;\n",
       "    }\n",
       "\n",
       "    .dataframe tbody tr th {\n",
       "        vertical-align: top;\n",
       "    }\n",
       "\n",
       "    .dataframe thead th {\n",
       "        text-align: right;\n",
       "    }\n",
       "</style>\n",
       "<table border=\"1\" class=\"dataframe\">\n",
       "  <thead>\n",
       "    <tr style=\"text-align: right;\">\n",
       "      <th></th>\n",
       "      <th>Groupe</th>\n",
       "      <th>Album</th>\n",
       "      <th>Année</th>\n",
       "      <th>Label</th>\n",
       "      <th>Pays</th>\n",
       "      <th>Genre</th>\n",
       "    </tr>\n",
       "  </thead>\n",
       "  <tbody>\n",
       "    <tr>\n",
       "      <th>304</th>\n",
       "      <td>Pink Floyd</td>\n",
       "      <td>Meddle</td>\n",
       "      <td>1971</td>\n",
       "      <td>Parlophone</td>\n",
       "      <td>Angleterre</td>\n",
       "      <td>Rock</td>\n",
       "    </tr>\n",
       "    <tr>\n",
       "      <th>305</th>\n",
       "      <td>Pink Floyd</td>\n",
       "      <td>The Dark Side of the Moon</td>\n",
       "      <td>1973</td>\n",
       "      <td>Parlophone</td>\n",
       "      <td>Angleterre</td>\n",
       "      <td>Rock</td>\n",
       "    </tr>\n",
       "    <tr>\n",
       "      <th>306</th>\n",
       "      <td>Pink Floyd</td>\n",
       "      <td>Wish You Were Here</td>\n",
       "      <td>1975</td>\n",
       "      <td>Parlophone</td>\n",
       "      <td>Angleterre</td>\n",
       "      <td>Rock</td>\n",
       "    </tr>\n",
       "    <tr>\n",
       "      <th>307</th>\n",
       "      <td>Pink Floyd</td>\n",
       "      <td>Animals</td>\n",
       "      <td>1977</td>\n",
       "      <td>Parlophone</td>\n",
       "      <td>Angleterre</td>\n",
       "      <td>Rock</td>\n",
       "    </tr>\n",
       "    <tr>\n",
       "      <th>308</th>\n",
       "      <td>Pink Floyd</td>\n",
       "      <td>The Wall</td>\n",
       "      <td>1979</td>\n",
       "      <td>Parlophone</td>\n",
       "      <td>Angleterre</td>\n",
       "      <td>Rock</td>\n",
       "    </tr>\n",
       "    <tr>\n",
       "      <th>334</th>\n",
       "      <td>Rainbow</td>\n",
       "      <td>Ritchie Blackmore's Rainbow</td>\n",
       "      <td>1975</td>\n",
       "      <td>Polydor</td>\n",
       "      <td>Angleterre</td>\n",
       "      <td>Rock</td>\n",
       "    </tr>\n",
       "    <tr>\n",
       "      <th>393</th>\n",
       "      <td>The Beatles</td>\n",
       "      <td>Sgt. Pepper's Lonely Hearts Club Band</td>\n",
       "      <td>1967</td>\n",
       "      <td>Apple</td>\n",
       "      <td>Angleterre</td>\n",
       "      <td>Rock</td>\n",
       "    </tr>\n",
       "    <tr>\n",
       "      <th>394</th>\n",
       "      <td>The Beatles</td>\n",
       "      <td>The Beatles</td>\n",
       "      <td>1968</td>\n",
       "      <td>Apple</td>\n",
       "      <td>Angleterre</td>\n",
       "      <td>Rock</td>\n",
       "    </tr>\n",
       "    <tr>\n",
       "      <th>395</th>\n",
       "      <td>The Beatles</td>\n",
       "      <td>Abbey Road</td>\n",
       "      <td>1969</td>\n",
       "      <td>Apple</td>\n",
       "      <td>Angleterre</td>\n",
       "      <td>Rock</td>\n",
       "    </tr>\n",
       "    <tr>\n",
       "      <th>411</th>\n",
       "      <td>The Police</td>\n",
       "      <td>Reggatta de Blanc</td>\n",
       "      <td>1979</td>\n",
       "      <td>A&amp;M Records</td>\n",
       "      <td>Angleterre</td>\n",
       "      <td>Rock</td>\n",
       "    </tr>\n",
       "  </tbody>\n",
       "</table>\n",
       "</div>"
      ],
      "text/plain": [
       "          Groupe                                  Album  Année        Label  \\\n",
       "304   Pink Floyd                                 Meddle   1971   Parlophone   \n",
       "305   Pink Floyd              The Dark Side of the Moon   1973   Parlophone   \n",
       "306   Pink Floyd                     Wish You Were Here   1975   Parlophone   \n",
       "307   Pink Floyd                                Animals   1977   Parlophone   \n",
       "308   Pink Floyd                               The Wall   1979   Parlophone   \n",
       "334      Rainbow            Ritchie Blackmore's Rainbow   1975      Polydor   \n",
       "393  The Beatles  Sgt. Pepper's Lonely Hearts Club Band   1967        Apple   \n",
       "394  The Beatles                            The Beatles   1968        Apple   \n",
       "395  The Beatles                             Abbey Road   1969        Apple   \n",
       "411   The Police                      Reggatta de Blanc   1979  A&M Records   \n",
       "\n",
       "           Pays Genre  \n",
       "304  Angleterre  Rock  \n",
       "305  Angleterre  Rock  \n",
       "306  Angleterre  Rock  \n",
       "307  Angleterre  Rock  \n",
       "308  Angleterre  Rock  \n",
       "334  Angleterre  Rock  \n",
       "393  Angleterre  Rock  \n",
       "394  Angleterre  Rock  \n",
       "395  Angleterre  Rock  \n",
       "411  Angleterre  Rock  "
      ]
     },
     "execution_count": 18,
     "metadata": {},
     "output_type": "execute_result"
    }
   ],
   "source": [
    "data[data['Année'] < 1980]"
   ]
  },
  {
   "cell_type": "markdown",
   "metadata": {},
   "source": [
    "---"
   ]
  },
  {
   "cell_type": "markdown",
   "metadata": {},
   "source": [
    "### Classement des données par ascendance"
   ]
  },
  {
   "cell_type": "code",
   "execution_count": 19,
   "metadata": {},
   "outputs": [
    {
     "data": {
      "text/html": [
       "<div>\n",
       "<style scoped>\n",
       "    .dataframe tbody tr th:only-of-type {\n",
       "        vertical-align: middle;\n",
       "    }\n",
       "\n",
       "    .dataframe tbody tr th {\n",
       "        vertical-align: top;\n",
       "    }\n",
       "\n",
       "    .dataframe thead th {\n",
       "        text-align: right;\n",
       "    }\n",
       "</style>\n",
       "<table border=\"1\" class=\"dataframe\">\n",
       "  <thead>\n",
       "    <tr style=\"text-align: right;\">\n",
       "      <th></th>\n",
       "      <th>Groupe</th>\n",
       "      <th>Album</th>\n",
       "      <th>Année</th>\n",
       "      <th>Label</th>\n",
       "      <th>Pays</th>\n",
       "      <th>Genre</th>\n",
       "    </tr>\n",
       "  </thead>\n",
       "  <tbody>\n",
       "    <tr>\n",
       "      <th>393</th>\n",
       "      <td>The Beatles</td>\n",
       "      <td>Sgt. Pepper's Lonely Hearts Club Band</td>\n",
       "      <td>1967</td>\n",
       "      <td>Apple</td>\n",
       "      <td>Angleterre</td>\n",
       "      <td>Rock</td>\n",
       "    </tr>\n",
       "    <tr>\n",
       "      <th>394</th>\n",
       "      <td>The Beatles</td>\n",
       "      <td>The Beatles</td>\n",
       "      <td>1968</td>\n",
       "      <td>Apple</td>\n",
       "      <td>Angleterre</td>\n",
       "      <td>Rock</td>\n",
       "    </tr>\n",
       "    <tr>\n",
       "      <th>395</th>\n",
       "      <td>The Beatles</td>\n",
       "      <td>Abbey Road</td>\n",
       "      <td>1969</td>\n",
       "      <td>Apple</td>\n",
       "      <td>Angleterre</td>\n",
       "      <td>Rock</td>\n",
       "    </tr>\n",
       "    <tr>\n",
       "      <th>304</th>\n",
       "      <td>Pink Floyd</td>\n",
       "      <td>Meddle</td>\n",
       "      <td>1971</td>\n",
       "      <td>Parlophone</td>\n",
       "      <td>Angleterre</td>\n",
       "      <td>Rock</td>\n",
       "    </tr>\n",
       "    <tr>\n",
       "      <th>305</th>\n",
       "      <td>Pink Floyd</td>\n",
       "      <td>The Dark Side of the Moon</td>\n",
       "      <td>1973</td>\n",
       "      <td>Parlophone</td>\n",
       "      <td>Angleterre</td>\n",
       "      <td>Rock</td>\n",
       "    </tr>\n",
       "    <tr>\n",
       "      <th>...</th>\n",
       "      <td>...</td>\n",
       "      <td>...</td>\n",
       "      <td>...</td>\n",
       "      <td>...</td>\n",
       "      <td>...</td>\n",
       "      <td>...</td>\n",
       "    </tr>\n",
       "    <tr>\n",
       "      <th>133</th>\n",
       "      <td>Haken</td>\n",
       "      <td>Virus</td>\n",
       "      <td>2020</td>\n",
       "      <td>Inside Out</td>\n",
       "      <td>Angleterre</td>\n",
       "      <td>Metal</td>\n",
       "    </tr>\n",
       "    <tr>\n",
       "      <th>136</th>\n",
       "      <td>Heaven Shall Burn</td>\n",
       "      <td>Of Truth and Sacrifice</td>\n",
       "      <td>2020</td>\n",
       "      <td>Century Media</td>\n",
       "      <td>Allemagne</td>\n",
       "      <td>Metal</td>\n",
       "    </tr>\n",
       "    <tr>\n",
       "      <th>68</th>\n",
       "      <td>Deftones</td>\n",
       "      <td>Ohms</td>\n",
       "      <td>2020</td>\n",
       "      <td>Reprise</td>\n",
       "      <td>Etats-Unis</td>\n",
       "      <td>Metal</td>\n",
       "    </tr>\n",
       "    <tr>\n",
       "      <th>283</th>\n",
       "      <td>Parkway Drive</td>\n",
       "      <td>Viva the Underdogs</td>\n",
       "      <td>2020</td>\n",
       "      <td>Epitaph Records</td>\n",
       "      <td>Australie</td>\n",
       "      <td>Metal</td>\n",
       "    </tr>\n",
       "    <tr>\n",
       "      <th>23</th>\n",
       "      <td>Avatar</td>\n",
       "      <td>Hunter Gatherer</td>\n",
       "      <td>2020</td>\n",
       "      <td>Century Media</td>\n",
       "      <td>Suède</td>\n",
       "      <td>Metal</td>\n",
       "    </tr>\n",
       "  </tbody>\n",
       "</table>\n",
       "<p>431 rows × 6 columns</p>\n",
       "</div>"
      ],
      "text/plain": [
       "                Groupe                                  Album  Année  \\\n",
       "393        The Beatles  Sgt. Pepper's Lonely Hearts Club Band   1967   \n",
       "394        The Beatles                            The Beatles   1968   \n",
       "395        The Beatles                             Abbey Road   1969   \n",
       "304         Pink Floyd                                 Meddle   1971   \n",
       "305         Pink Floyd              The Dark Side of the Moon   1973   \n",
       "..                 ...                                    ...    ...   \n",
       "133              Haken                                  Virus   2020   \n",
       "136  Heaven Shall Burn                 Of Truth and Sacrifice   2020   \n",
       "68            Deftones                                   Ohms   2020   \n",
       "283      Parkway Drive                     Viva the Underdogs   2020   \n",
       "23              Avatar                        Hunter Gatherer   2020   \n",
       "\n",
       "               Label        Pays  Genre  \n",
       "393            Apple  Angleterre   Rock  \n",
       "394            Apple  Angleterre   Rock  \n",
       "395            Apple  Angleterre   Rock  \n",
       "304       Parlophone  Angleterre   Rock  \n",
       "305       Parlophone  Angleterre   Rock  \n",
       "..               ...         ...    ...  \n",
       "133       Inside Out  Angleterre  Metal  \n",
       "136    Century Media   Allemagne  Metal  \n",
       "68           Reprise  Etats-Unis  Metal  \n",
       "283  Epitaph Records   Australie  Metal  \n",
       "23     Century Media       Suède  Metal  \n",
       "\n",
       "[431 rows x 6 columns]"
      ]
     },
     "execution_count": 19,
     "metadata": {},
     "output_type": "execute_result"
    }
   ],
   "source": [
    "data.sort_values('Année', ascending=True)"
   ]
  },
  {
   "cell_type": "markdown",
   "metadata": {},
   "source": [
    "---"
   ]
  },
  {
   "cell_type": "markdown",
   "metadata": {},
   "source": [
    "### Affichage d'un échantillon des données (0.05% par exemple)"
   ]
  },
  {
   "cell_type": "code",
   "execution_count": 20,
   "metadata": {},
   "outputs": [
    {
     "data": {
      "text/html": [
       "<div>\n",
       "<style scoped>\n",
       "    .dataframe tbody tr th:only-of-type {\n",
       "        vertical-align: middle;\n",
       "    }\n",
       "\n",
       "    .dataframe tbody tr th {\n",
       "        vertical-align: top;\n",
       "    }\n",
       "\n",
       "    .dataframe thead th {\n",
       "        text-align: right;\n",
       "    }\n",
       "</style>\n",
       "<table border=\"1\" class=\"dataframe\">\n",
       "  <thead>\n",
       "    <tr style=\"text-align: right;\">\n",
       "      <th></th>\n",
       "      <th>Groupe</th>\n",
       "      <th>Album</th>\n",
       "      <th>Année</th>\n",
       "      <th>Label</th>\n",
       "      <th>Pays</th>\n",
       "      <th>Genre</th>\n",
       "    </tr>\n",
       "  </thead>\n",
       "  <tbody>\n",
       "    <tr>\n",
       "      <th>93</th>\n",
       "      <td>Enter Shikari</td>\n",
       "      <td>Live at Alexandra Palace</td>\n",
       "      <td>2016</td>\n",
       "      <td>Ambush Reality</td>\n",
       "      <td>Angleterre</td>\n",
       "      <td>Rock</td>\n",
       "    </tr>\n",
       "    <tr>\n",
       "      <th>246</th>\n",
       "      <td>Metallica</td>\n",
       "      <td>Through the Never</td>\n",
       "      <td>2013</td>\n",
       "      <td>Blackened</td>\n",
       "      <td>Etats-Unis</td>\n",
       "      <td>Metal</td>\n",
       "    </tr>\n",
       "    <tr>\n",
       "      <th>219</th>\n",
       "      <td>Marillion</td>\n",
       "      <td>Crash Course</td>\n",
       "      <td>2012</td>\n",
       "      <td>Racket Records</td>\n",
       "      <td>Angleterre</td>\n",
       "      <td>Rock</td>\n",
       "    </tr>\n",
       "    <tr>\n",
       "      <th>293</th>\n",
       "      <td>Pendulum</td>\n",
       "      <td>In Silico</td>\n",
       "      <td>2008</td>\n",
       "      <td>Warner Bros</td>\n",
       "      <td>Australie</td>\n",
       "      <td>Electro</td>\n",
       "    </tr>\n",
       "    <tr>\n",
       "      <th>358</th>\n",
       "      <td>Rush</td>\n",
       "      <td>Clockwork Angels</td>\n",
       "      <td>2012</td>\n",
       "      <td>Roadrunner</td>\n",
       "      <td>Canada</td>\n",
       "      <td>Rock</td>\n",
       "    </tr>\n",
       "    <tr>\n",
       "      <th>218</th>\n",
       "      <td>Marillion</td>\n",
       "      <td>Marbles</td>\n",
       "      <td>2004</td>\n",
       "      <td>Madfish</td>\n",
       "      <td>Angleterre</td>\n",
       "      <td>Rock</td>\n",
       "    </tr>\n",
       "    <tr>\n",
       "      <th>26</th>\n",
       "      <td>Biffy Clyro</td>\n",
       "      <td>Only Revolutions</td>\n",
       "      <td>2009</td>\n",
       "      <td>14th Floor Records</td>\n",
       "      <td>Ecosse</td>\n",
       "      <td>Rock</td>\n",
       "    </tr>\n",
       "    <tr>\n",
       "      <th>29</th>\n",
       "      <td>Blood Red Shoes</td>\n",
       "      <td>In Time to Voices</td>\n",
       "      <td>2012</td>\n",
       "      <td>V2</td>\n",
       "      <td>Angleterre</td>\n",
       "      <td>Rock</td>\n",
       "    </tr>\n",
       "    <tr>\n",
       "      <th>76</th>\n",
       "      <td>Devin Townsend</td>\n",
       "      <td>Ocean Machine / Live at Plovdiv</td>\n",
       "      <td>2018</td>\n",
       "      <td>Inside Out</td>\n",
       "      <td>Canada</td>\n",
       "      <td>Metal</td>\n",
       "    </tr>\n",
       "    <tr>\n",
       "      <th>224</th>\n",
       "      <td>Mass Hysteria</td>\n",
       "      <td>Contraddiction</td>\n",
       "      <td>1999</td>\n",
       "      <td>Yelen Musiques</td>\n",
       "      <td>France</td>\n",
       "      <td>Metal</td>\n",
       "    </tr>\n",
       "    <tr>\n",
       "      <th>189</th>\n",
       "      <td>Korn</td>\n",
       "      <td>The Serenity of Suffering</td>\n",
       "      <td>2016</td>\n",
       "      <td>Roadrunner</td>\n",
       "      <td>Etats-Unis</td>\n",
       "      <td>Metal</td>\n",
       "    </tr>\n",
       "    <tr>\n",
       "      <th>291</th>\n",
       "      <td>Pendulum</td>\n",
       "      <td>Granite</td>\n",
       "      <td>2007</td>\n",
       "      <td>Warner Bros</td>\n",
       "      <td>Australie</td>\n",
       "      <td>Electro</td>\n",
       "    </tr>\n",
       "    <tr>\n",
       "      <th>200</th>\n",
       "      <td>Leprous</td>\n",
       "      <td>Malina</td>\n",
       "      <td>2017</td>\n",
       "      <td>Inside Out</td>\n",
       "      <td>Norvège</td>\n",
       "      <td>Metal</td>\n",
       "    </tr>\n",
       "    <tr>\n",
       "      <th>304</th>\n",
       "      <td>Pink Floyd</td>\n",
       "      <td>Meddle</td>\n",
       "      <td>1971</td>\n",
       "      <td>Parlophone</td>\n",
       "      <td>Angleterre</td>\n",
       "      <td>Rock</td>\n",
       "    </tr>\n",
       "    <tr>\n",
       "      <th>333</th>\n",
       "      <td>Rage Against the Machine</td>\n",
       "      <td>The Battle of Los Angeles</td>\n",
       "      <td>1999</td>\n",
       "      <td>Sony Music</td>\n",
       "      <td>Etats-Unis</td>\n",
       "      <td>Metal</td>\n",
       "    </tr>\n",
       "    <tr>\n",
       "      <th>30</th>\n",
       "      <td>Blood Red Shoes</td>\n",
       "      <td>Get Tragic</td>\n",
       "      <td>2019</td>\n",
       "      <td>Jazz Life</td>\n",
       "      <td>Angleterre</td>\n",
       "      <td>Rock</td>\n",
       "    </tr>\n",
       "    <tr>\n",
       "      <th>130</th>\n",
       "      <td>Gorillaz</td>\n",
       "      <td>Gorillaz</td>\n",
       "      <td>2001</td>\n",
       "      <td>Parlophone</td>\n",
       "      <td>Angleterre</td>\n",
       "      <td>Electro</td>\n",
       "    </tr>\n",
       "    <tr>\n",
       "      <th>148</th>\n",
       "      <td>Iron Maiden</td>\n",
       "      <td>The Number of the Beast</td>\n",
       "      <td>1982</td>\n",
       "      <td>Parlophone</td>\n",
       "      <td>Angleterre</td>\n",
       "      <td>Metal</td>\n",
       "    </tr>\n",
       "    <tr>\n",
       "      <th>175</th>\n",
       "      <td>Killer Be Killed</td>\n",
       "      <td>Killer Be Killed</td>\n",
       "      <td>2014</td>\n",
       "      <td>Nuclear Blast</td>\n",
       "      <td>Etats-Unis</td>\n",
       "      <td>Metal</td>\n",
       "    </tr>\n",
       "    <tr>\n",
       "      <th>260</th>\n",
       "      <td>Muse</td>\n",
       "      <td>H.A.A.R.P (Special Edition)</td>\n",
       "      <td>2008</td>\n",
       "      <td>Warner Bros</td>\n",
       "      <td>Angleterre</td>\n",
       "      <td>Rock</td>\n",
       "    </tr>\n",
       "    <tr>\n",
       "      <th>274</th>\n",
       "      <td>Opeth</td>\n",
       "      <td>Deliverance</td>\n",
       "      <td>2002</td>\n",
       "      <td>Sony Music</td>\n",
       "      <td>Suède</td>\n",
       "      <td>Metal</td>\n",
       "    </tr>\n",
       "    <tr>\n",
       "      <th>18</th>\n",
       "      <td>Audioslave</td>\n",
       "      <td>Audioslave</td>\n",
       "      <td>2002</td>\n",
       "      <td>Interscope</td>\n",
       "      <td>Etats-Unis</td>\n",
       "      <td>Rock</td>\n",
       "    </tr>\n",
       "  </tbody>\n",
       "</table>\n",
       "</div>"
      ],
      "text/plain": [
       "                       Groupe                            Album  Année  \\\n",
       "93              Enter Shikari         Live at Alexandra Palace   2016   \n",
       "246                 Metallica                Through the Never   2013   \n",
       "219                 Marillion                     Crash Course   2012   \n",
       "293                  Pendulum                        In Silico   2008   \n",
       "358                      Rush                 Clockwork Angels   2012   \n",
       "218                 Marillion                          Marbles   2004   \n",
       "26                Biffy Clyro                 Only Revolutions   2009   \n",
       "29            Blood Red Shoes                In Time to Voices   2012   \n",
       "76             Devin Townsend  Ocean Machine / Live at Plovdiv   2018   \n",
       "224             Mass Hysteria                   Contraddiction   1999   \n",
       "189                      Korn        The Serenity of Suffering   2016   \n",
       "291                  Pendulum                          Granite   2007   \n",
       "200                   Leprous                           Malina   2017   \n",
       "304                Pink Floyd                           Meddle   1971   \n",
       "333  Rage Against the Machine        The Battle of Los Angeles   1999   \n",
       "30            Blood Red Shoes                       Get Tragic   2019   \n",
       "130                  Gorillaz                         Gorillaz   2001   \n",
       "148               Iron Maiden          The Number of the Beast   1982   \n",
       "175          Killer Be Killed                 Killer Be Killed   2014   \n",
       "260                      Muse      H.A.A.R.P (Special Edition)   2008   \n",
       "274                     Opeth                      Deliverance   2002   \n",
       "18                 Audioslave                       Audioslave   2002   \n",
       "\n",
       "                  Label        Pays    Genre  \n",
       "93       Ambush Reality  Angleterre     Rock  \n",
       "246           Blackened  Etats-Unis    Metal  \n",
       "219      Racket Records  Angleterre     Rock  \n",
       "293         Warner Bros   Australie  Electro  \n",
       "358          Roadrunner      Canada     Rock  \n",
       "218             Madfish  Angleterre     Rock  \n",
       "26   14th Floor Records      Ecosse     Rock  \n",
       "29                   V2  Angleterre     Rock  \n",
       "76           Inside Out      Canada    Metal  \n",
       "224      Yelen Musiques      France    Metal  \n",
       "189          Roadrunner  Etats-Unis    Metal  \n",
       "291         Warner Bros   Australie  Electro  \n",
       "200          Inside Out     Norvège    Metal  \n",
       "304          Parlophone  Angleterre     Rock  \n",
       "333          Sony Music  Etats-Unis    Metal  \n",
       "30            Jazz Life  Angleterre     Rock  \n",
       "130          Parlophone  Angleterre  Electro  \n",
       "148          Parlophone  Angleterre    Metal  \n",
       "175       Nuclear Blast  Etats-Unis    Metal  \n",
       "260         Warner Bros  Angleterre     Rock  \n",
       "274          Sony Music       Suède    Metal  \n",
       "18           Interscope  Etats-Unis     Rock  "
      ]
     },
     "execution_count": 20,
     "metadata": {},
     "output_type": "execute_result"
    }
   ],
   "source": [
    "data.sample(frac=0.05)"
   ]
  },
  {
   "cell_type": "markdown",
   "metadata": {},
   "source": [
    "---"
   ]
  },
  {
   "cell_type": "markdown",
   "metadata": {},
   "source": [
    "### Affichage d'une colonne en liste"
   ]
  },
  {
   "cell_type": "code",
   "execution_count": 25,
   "metadata": {},
   "outputs": [
    {
     "data": {
      "text/plain": [
       "0                     A Perfect Circle\n",
       "1                                 Abba\n",
       "2                          Amon Amarth\n",
       "3                             Amorphis\n",
       "4                         Apocalyptica\n",
       "                    ...               \n",
       "426    We Butter the Bread with Butter\n",
       "427                        Whitechapel\n",
       "428                            Woodkid\n",
       "429                            Woodkid\n",
       "430                                Yes\n",
       "Name: Groupe, Length: 431, dtype: object"
      ]
     },
     "execution_count": 25,
     "metadata": {},
     "output_type": "execute_result"
    }
   ],
   "source": [
    "data['Groupe'].tolist()\n",
    "data['Groupe']\n",
    "# Deuxième ligne permet une présentation plus propre"
   ]
  },
  {
   "cell_type": "markdown",
   "metadata": {},
   "source": [
    "---"
   ]
  },
  {
   "cell_type": "markdown",
   "metadata": {},
   "source": [
    "### Description rapide du jeu de données (utile si données = numériques seulement)"
   ]
  },
  {
   "cell_type": "code",
   "execution_count": 26,
   "metadata": {},
   "outputs": [
    {
     "data": {
      "text/html": [
       "<div>\n",
       "<style scoped>\n",
       "    .dataframe tbody tr th:only-of-type {\n",
       "        vertical-align: middle;\n",
       "    }\n",
       "\n",
       "    .dataframe tbody tr th {\n",
       "        vertical-align: top;\n",
       "    }\n",
       "\n",
       "    .dataframe thead th {\n",
       "        text-align: right;\n",
       "    }\n",
       "</style>\n",
       "<table border=\"1\" class=\"dataframe\">\n",
       "  <thead>\n",
       "    <tr style=\"text-align: right;\">\n",
       "      <th></th>\n",
       "      <th>Année</th>\n",
       "    </tr>\n",
       "  </thead>\n",
       "  <tbody>\n",
       "    <tr>\n",
       "      <th>count</th>\n",
       "      <td>431.000000</td>\n",
       "    </tr>\n",
       "    <tr>\n",
       "      <th>mean</th>\n",
       "      <td>2007.932715</td>\n",
       "    </tr>\n",
       "    <tr>\n",
       "      <th>std</th>\n",
       "      <td>9.382201</td>\n",
       "    </tr>\n",
       "    <tr>\n",
       "      <th>min</th>\n",
       "      <td>1967.000000</td>\n",
       "    </tr>\n",
       "    <tr>\n",
       "      <th>25%</th>\n",
       "      <td>2004.000000</td>\n",
       "    </tr>\n",
       "    <tr>\n",
       "      <th>50%</th>\n",
       "      <td>2009.000000</td>\n",
       "    </tr>\n",
       "    <tr>\n",
       "      <th>75%</th>\n",
       "      <td>2015.000000</td>\n",
       "    </tr>\n",
       "    <tr>\n",
       "      <th>max</th>\n",
       "      <td>2020.000000</td>\n",
       "    </tr>\n",
       "  </tbody>\n",
       "</table>\n",
       "</div>"
      ],
      "text/plain": [
       "             Année\n",
       "count   431.000000\n",
       "mean   2007.932715\n",
       "std       9.382201\n",
       "min    1967.000000\n",
       "25%    2004.000000\n",
       "50%    2009.000000\n",
       "75%    2015.000000\n",
       "max    2020.000000"
      ]
     },
     "execution_count": 26,
     "metadata": {},
     "output_type": "execute_result"
    }
   ],
   "source": [
    "data.describe()"
   ]
  },
  {
   "cell_type": "markdown",
   "metadata": {},
   "source": [
    "---"
   ]
  },
  {
   "cell_type": "markdown",
   "metadata": {},
   "source": [
    "### Affichage des infos principales du dataframe"
   ]
  },
  {
   "cell_type": "code",
   "execution_count": 27,
   "metadata": {},
   "outputs": [
    {
     "name": "stdout",
     "output_type": "stream",
     "text": [
      "<class 'pandas.core.frame.DataFrame'>\n",
      "RangeIndex: 431 entries, 0 to 430\n",
      "Data columns (total 6 columns):\n",
      " #   Column  Non-Null Count  Dtype \n",
      "---  ------  --------------  ----- \n",
      " 0   Groupe  431 non-null    object\n",
      " 1   Album   431 non-null    object\n",
      " 2   Année   431 non-null    int64 \n",
      " 3   Label   431 non-null    object\n",
      " 4   Pays    431 non-null    object\n",
      " 5   Genre   431 non-null    object\n",
      "dtypes: int64(1), object(5)\n",
      "memory usage: 20.3+ KB\n"
     ]
    }
   ],
   "source": [
    "data.info()"
   ]
  },
  {
   "cell_type": "markdown",
   "metadata": {},
   "source": [
    "---"
   ]
  },
  {
   "cell_type": "markdown",
   "metadata": {},
   "source": [
    "### Ajout de données"
   ]
  },
  {
   "cell_type": "code",
   "execution_count": 41,
   "metadata": {},
   "outputs": [],
   "source": [
    "new_data = [{'Groupe':'The Weeknd','Album':'After Hours','Année':'2019','Label':'Republic Records','Pays':'Canada','Genre':'Rap'}]"
   ]
  },
  {
   "cell_type": "code",
   "execution_count": 42,
   "metadata": {},
   "outputs": [],
   "source": [
    "add_data = data.append(new_data,ignore_index=True,sort=False)"
   ]
  },
  {
   "cell_type": "code",
   "execution_count": 43,
   "metadata": {},
   "outputs": [],
   "source": [
    "add_data.to_excel('cds.xls')"
   ]
  },
  {
   "cell_type": "code",
   "execution_count": 44,
   "metadata": {},
   "outputs": [
    {
     "data": {
      "text/plain": [
       "(432, 6)"
      ]
     },
     "execution_count": 44,
     "metadata": {},
     "output_type": "execute_result"
    }
   ],
   "source": [
    "add_data.shape"
   ]
  },
  {
   "cell_type": "code",
   "execution_count": 45,
   "metadata": {},
   "outputs": [
    {
     "data": {
      "text/html": [
       "<div>\n",
       "<style scoped>\n",
       "    .dataframe tbody tr th:only-of-type {\n",
       "        vertical-align: middle;\n",
       "    }\n",
       "\n",
       "    .dataframe tbody tr th {\n",
       "        vertical-align: top;\n",
       "    }\n",
       "\n",
       "    .dataframe thead th {\n",
       "        text-align: right;\n",
       "    }\n",
       "</style>\n",
       "<table border=\"1\" class=\"dataframe\">\n",
       "  <thead>\n",
       "    <tr style=\"text-align: right;\">\n",
       "      <th></th>\n",
       "      <th>Groupe</th>\n",
       "      <th>Album</th>\n",
       "      <th>Année</th>\n",
       "      <th>Label</th>\n",
       "      <th>Pays</th>\n",
       "      <th>Genre</th>\n",
       "    </tr>\n",
       "  </thead>\n",
       "  <tbody>\n",
       "    <tr>\n",
       "      <th>427</th>\n",
       "      <td>Whitechapel</td>\n",
       "      <td>The Valley</td>\n",
       "      <td>2019</td>\n",
       "      <td>Metal Blade Records</td>\n",
       "      <td>Etats-Unis</td>\n",
       "      <td>Metal</td>\n",
       "    </tr>\n",
       "    <tr>\n",
       "      <th>428</th>\n",
       "      <td>Woodkid</td>\n",
       "      <td>The Golden Age</td>\n",
       "      <td>2013</td>\n",
       "      <td>Pias</td>\n",
       "      <td>France</td>\n",
       "      <td>Pop</td>\n",
       "    </tr>\n",
       "    <tr>\n",
       "      <th>429</th>\n",
       "      <td>Woodkid</td>\n",
       "      <td>The Golden Age (Deluxe)</td>\n",
       "      <td>2013</td>\n",
       "      <td>Pias</td>\n",
       "      <td>France</td>\n",
       "      <td>Pop</td>\n",
       "    </tr>\n",
       "    <tr>\n",
       "      <th>430</th>\n",
       "      <td>Yes</td>\n",
       "      <td>Highlights : The Very Best of Yes</td>\n",
       "      <td>1993</td>\n",
       "      <td>Atlantic</td>\n",
       "      <td>Angleterre</td>\n",
       "      <td>Rock</td>\n",
       "    </tr>\n",
       "    <tr>\n",
       "      <th>431</th>\n",
       "      <td>The Weeknd</td>\n",
       "      <td>After Hours</td>\n",
       "      <td>2019</td>\n",
       "      <td>Republic Records</td>\n",
       "      <td>Canada</td>\n",
       "      <td>Rap</td>\n",
       "    </tr>\n",
       "  </tbody>\n",
       "</table>\n",
       "</div>"
      ],
      "text/plain": [
       "          Groupe                              Album Année  \\\n",
       "427  Whitechapel                         The Valley  2019   \n",
       "428      Woodkid                     The Golden Age  2013   \n",
       "429      Woodkid            The Golden Age (Deluxe)  2013   \n",
       "430          Yes  Highlights : The Very Best of Yes  1993   \n",
       "431   The Weeknd                        After Hours  2019   \n",
       "\n",
       "                   Label        Pays  Genre  \n",
       "427  Metal Blade Records  Etats-Unis  Metal  \n",
       "428                 Pias      France    Pop  \n",
       "429                 Pias      France    Pop  \n",
       "430             Atlantic  Angleterre   Rock  \n",
       "431     Republic Records      Canada    Rap  "
      ]
     },
     "execution_count": 45,
     "metadata": {},
     "output_type": "execute_result"
    }
   ],
   "source": [
    "add_data.tail()"
   ]
  },
  {
   "cell_type": "markdown",
   "metadata": {},
   "source": [
    "---"
   ]
  },
  {
   "cell_type": "markdown",
   "metadata": {},
   "source": [
    "### Ajout de plusieurs lignes de données"
   ]
  },
  {
   "cell_type": "code",
   "execution_count": 57,
   "metadata": {},
   "outputs": [],
   "source": [
    "more_new_data = [ ('Cult of Luna', 'A Dawn to Fear', '2019', 'Metal Blade Records', 'Suède', 'Metal') ,\n",
    "             ('Anathema', 'Universal', '2013', 'Kscope', 'Angleterre', 'Rock') ,\n",
    "             ('Monkey3', 'Sphere', '2019', 'Napalm Records', 'Suisse', 'Metal')  ]"
   ]
  },
  {
   "cell_type": "code",
   "execution_count": 58,
   "metadata": {},
   "outputs": [],
   "source": [
    "add_multiple_data = pd.DataFrame(more_new_data, columns = ['Groupe' , 'Album', 'Année' , 'Label' , 'Pays' , 'Genre'], index=['432', '433', '434'])"
   ]
  },
  {
   "cell_type": "code",
   "execution_count": 60,
   "metadata": {},
   "outputs": [],
   "source": [
    "add_data_2 = add_data.append(add_multiple_data, ignore_index=False, verify_integrity=False, sort=None)"
   ]
  },
  {
   "cell_type": "code",
   "execution_count": 61,
   "metadata": {},
   "outputs": [],
   "source": [
    "add_data_2.to_excel('cds.xls')"
   ]
  },
  {
   "cell_type": "code",
   "execution_count": 64,
   "metadata": {},
   "outputs": [
    {
     "data": {
      "text/plain": [
       "(435, 6)"
      ]
     },
     "execution_count": 64,
     "metadata": {},
     "output_type": "execute_result"
    }
   ],
   "source": [
    "add_data_2.shape"
   ]
  },
  {
   "cell_type": "code",
   "execution_count": 65,
   "metadata": {},
   "outputs": [
    {
     "data": {
      "text/html": [
       "<div>\n",
       "<style scoped>\n",
       "    .dataframe tbody tr th:only-of-type {\n",
       "        vertical-align: middle;\n",
       "    }\n",
       "\n",
       "    .dataframe tbody tr th {\n",
       "        vertical-align: top;\n",
       "    }\n",
       "\n",
       "    .dataframe thead th {\n",
       "        text-align: right;\n",
       "    }\n",
       "</style>\n",
       "<table border=\"1\" class=\"dataframe\">\n",
       "  <thead>\n",
       "    <tr style=\"text-align: right;\">\n",
       "      <th></th>\n",
       "      <th>Groupe</th>\n",
       "      <th>Album</th>\n",
       "      <th>Année</th>\n",
       "      <th>Label</th>\n",
       "      <th>Pays</th>\n",
       "      <th>Genre</th>\n",
       "    </tr>\n",
       "  </thead>\n",
       "  <tbody>\n",
       "    <tr>\n",
       "      <th>430</th>\n",
       "      <td>Yes</td>\n",
       "      <td>Highlights : The Very Best of Yes</td>\n",
       "      <td>1993</td>\n",
       "      <td>Atlantic</td>\n",
       "      <td>Angleterre</td>\n",
       "      <td>Rock</td>\n",
       "    </tr>\n",
       "    <tr>\n",
       "      <th>431</th>\n",
       "      <td>The Weeknd</td>\n",
       "      <td>After Hours</td>\n",
       "      <td>2019</td>\n",
       "      <td>Republic Records</td>\n",
       "      <td>Canada</td>\n",
       "      <td>Rap</td>\n",
       "    </tr>\n",
       "    <tr>\n",
       "      <th>432</th>\n",
       "      <td>Cult of Luna</td>\n",
       "      <td>A Dawn to Fear</td>\n",
       "      <td>2019</td>\n",
       "      <td>Metal Blade Records</td>\n",
       "      <td>Suède</td>\n",
       "      <td>Metal</td>\n",
       "    </tr>\n",
       "    <tr>\n",
       "      <th>433</th>\n",
       "      <td>Anathema</td>\n",
       "      <td>Universal</td>\n",
       "      <td>2013</td>\n",
       "      <td>Kscope</td>\n",
       "      <td>Angleterre</td>\n",
       "      <td>Rock</td>\n",
       "    </tr>\n",
       "    <tr>\n",
       "      <th>434</th>\n",
       "      <td>Monkey3</td>\n",
       "      <td>Sphere</td>\n",
       "      <td>2019</td>\n",
       "      <td>Napalm Records</td>\n",
       "      <td>Suisse</td>\n",
       "      <td>Metal</td>\n",
       "    </tr>\n",
       "  </tbody>\n",
       "</table>\n",
       "</div>"
      ],
      "text/plain": [
       "           Groupe                              Album Année  \\\n",
       "430           Yes  Highlights : The Very Best of Yes  1993   \n",
       "431    The Weeknd                        After Hours  2019   \n",
       "432  Cult of Luna                     A Dawn to Fear  2019   \n",
       "433      Anathema                          Universal  2013   \n",
       "434       Monkey3                             Sphere  2019   \n",
       "\n",
       "                   Label        Pays  Genre  \n",
       "430             Atlantic  Angleterre   Rock  \n",
       "431     Republic Records      Canada    Rap  \n",
       "432  Metal Blade Records       Suède  Metal  \n",
       "433               Kscope  Angleterre   Rock  \n",
       "434       Napalm Records      Suisse  Metal  "
      ]
     },
     "execution_count": 65,
     "metadata": {},
     "output_type": "execute_result"
    }
   ],
   "source": [
    "add_data_2.tail()"
   ]
  },
  {
   "cell_type": "markdown",
   "metadata": {},
   "source": [
    "---"
   ]
  },
  {
   "cell_type": "markdown",
   "metadata": {},
   "source": [
    "### Export du dataframe en CSV"
   ]
  },
  {
   "cell_type": "code",
   "execution_count": 66,
   "metadata": {},
   "outputs": [
    {
     "name": "stdout",
     "output_type": "stream",
     "text": [
      "L'exportation a été effectuée\n"
     ]
    }
   ],
   "source": [
    "add_data_2.to_csv('list_cds', sep=',', encoding='utf-8')\n",
    "print(\"L'exportation a été effectuée\")"
   ]
  },
  {
   "cell_type": "markdown",
   "metadata": {},
   "source": [
    "---"
   ]
  }
 ],
 "metadata": {
  "kernelspec": {
   "display_name": "Python 3",
   "language": "python",
   "name": "python3"
  },
  "language_info": {
   "codemirror_mode": {
    "name": "ipython",
    "version": 3
   },
   "file_extension": ".py",
   "mimetype": "text/x-python",
   "name": "python",
   "nbconvert_exporter": "python",
   "pygments_lexer": "ipython3",
   "version": "3.8.6"
  }
 },
 "nbformat": 4,
 "nbformat_minor": 4
}
