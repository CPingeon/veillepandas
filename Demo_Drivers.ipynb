{
 "cells": [
  {
   "cell_type": "code",
   "execution_count": 2,
   "metadata": {},
   "outputs": [],
   "source": [
    "import numpy as np\n",
    "import matplotlib.pyplot as plt\n",
    "import pandas as pd"
   ]
  },
  {
   "cell_type": "code",
   "execution_count": 3,
   "metadata": {},
   "outputs": [
    {
     "data": {
      "text/html": [
       "<div>\n",
       "<style scoped>\n",
       "    .dataframe tbody tr th:only-of-type {\n",
       "        vertical-align: middle;\n",
       "    }\n",
       "\n",
       "    .dataframe tbody tr th {\n",
       "        vertical-align: top;\n",
       "    }\n",
       "\n",
       "    .dataframe thead th {\n",
       "        text-align: right;\n",
       "    }\n",
       "</style>\n",
       "<table border=\"1\" class=\"dataframe\">\n",
       "  <thead>\n",
       "    <tr style=\"text-align: right;\">\n",
       "      <th></th>\n",
       "      <th>driverId</th>\n",
       "      <th>driverRef</th>\n",
       "      <th>number</th>\n",
       "      <th>code</th>\n",
       "      <th>forename</th>\n",
       "      <th>surname</th>\n",
       "      <th>dob</th>\n",
       "      <th>nationality</th>\n",
       "      <th>url</th>\n",
       "    </tr>\n",
       "  </thead>\n",
       "  <tbody>\n",
       "    <tr>\n",
       "      <th>0</th>\n",
       "      <td>1</td>\n",
       "      <td>hamilton</td>\n",
       "      <td>44</td>\n",
       "      <td>HAM</td>\n",
       "      <td>Lewis</td>\n",
       "      <td>Hamilton</td>\n",
       "      <td>1985-01-07</td>\n",
       "      <td>British</td>\n",
       "      <td>http://en.wikipedia.org/wiki/Lewis_Hamilton</td>\n",
       "    </tr>\n",
       "    <tr>\n",
       "      <th>1</th>\n",
       "      <td>2</td>\n",
       "      <td>heidfeld</td>\n",
       "      <td>\\N</td>\n",
       "      <td>HEI</td>\n",
       "      <td>Nick</td>\n",
       "      <td>Heidfeld</td>\n",
       "      <td>1977-05-10</td>\n",
       "      <td>German</td>\n",
       "      <td>http://en.wikipedia.org/wiki/Nick_Heidfeld</td>\n",
       "    </tr>\n",
       "    <tr>\n",
       "      <th>2</th>\n",
       "      <td>3</td>\n",
       "      <td>rosberg</td>\n",
       "      <td>6</td>\n",
       "      <td>ROS</td>\n",
       "      <td>Nico</td>\n",
       "      <td>Rosberg</td>\n",
       "      <td>1985-06-27</td>\n",
       "      <td>German</td>\n",
       "      <td>http://en.wikipedia.org/wiki/Nico_Rosberg</td>\n",
       "    </tr>\n",
       "    <tr>\n",
       "      <th>3</th>\n",
       "      <td>4</td>\n",
       "      <td>alonso</td>\n",
       "      <td>14</td>\n",
       "      <td>ALO</td>\n",
       "      <td>Fernando</td>\n",
       "      <td>Alonso</td>\n",
       "      <td>1981-07-29</td>\n",
       "      <td>Spanish</td>\n",
       "      <td>http://en.wikipedia.org/wiki/Fernando_Alonso</td>\n",
       "    </tr>\n",
       "    <tr>\n",
       "      <th>4</th>\n",
       "      <td>5</td>\n",
       "      <td>kovalainen</td>\n",
       "      <td>\\N</td>\n",
       "      <td>KOV</td>\n",
       "      <td>Heikki</td>\n",
       "      <td>Kovalainen</td>\n",
       "      <td>1981-10-19</td>\n",
       "      <td>Finnish</td>\n",
       "      <td>http://en.wikipedia.org/wiki/Heikki_Kovalainen</td>\n",
       "    </tr>\n",
       "    <tr>\n",
       "      <th>...</th>\n",
       "      <td>...</td>\n",
       "      <td>...</td>\n",
       "      <td>...</td>\n",
       "      <td>...</td>\n",
       "      <td>...</td>\n",
       "      <td>...</td>\n",
       "      <td>...</td>\n",
       "      <td>...</td>\n",
       "      <td>...</td>\n",
       "    </tr>\n",
       "    <tr>\n",
       "      <th>845</th>\n",
       "      <td>847</td>\n",
       "      <td>russell</td>\n",
       "      <td>63</td>\n",
       "      <td>RUS</td>\n",
       "      <td>George</td>\n",
       "      <td>Russell</td>\n",
       "      <td>1998-02-15</td>\n",
       "      <td>British</td>\n",
       "      <td>http://en.wikipedia.org/wiki/George_Russell_%2...</td>\n",
       "    </tr>\n",
       "    <tr>\n",
       "      <th>846</th>\n",
       "      <td>848</td>\n",
       "      <td>albon</td>\n",
       "      <td>23</td>\n",
       "      <td>ALB</td>\n",
       "      <td>Alexander</td>\n",
       "      <td>Albon</td>\n",
       "      <td>1996-03-23</td>\n",
       "      <td>Thai</td>\n",
       "      <td>http://en.wikipedia.org/wiki/Alexander_Albon</td>\n",
       "    </tr>\n",
       "    <tr>\n",
       "      <th>847</th>\n",
       "      <td>849</td>\n",
       "      <td>latifi</td>\n",
       "      <td>6</td>\n",
       "      <td>LAT</td>\n",
       "      <td>Nicholas</td>\n",
       "      <td>Latifi</td>\n",
       "      <td>1995-06-29</td>\n",
       "      <td>Canadian</td>\n",
       "      <td>http://en.wikipedia.org/wiki/Nicholas_Latifi</td>\n",
       "    </tr>\n",
       "    <tr>\n",
       "      <th>848</th>\n",
       "      <td>850</td>\n",
       "      <td>pietro_fittipaldi</td>\n",
       "      <td>51</td>\n",
       "      <td>FIT</td>\n",
       "      <td>Pietro</td>\n",
       "      <td>Fittipaldi</td>\n",
       "      <td>1996-06-25</td>\n",
       "      <td>Brazilian</td>\n",
       "      <td>http://en.wikipedia.org/wiki/Pietro_Fittipaldi</td>\n",
       "    </tr>\n",
       "    <tr>\n",
       "      <th>849</th>\n",
       "      <td>851</td>\n",
       "      <td>aitken</td>\n",
       "      <td>89</td>\n",
       "      <td>AIT</td>\n",
       "      <td>Jack</td>\n",
       "      <td>Aitken</td>\n",
       "      <td>1995-09-23</td>\n",
       "      <td>British</td>\n",
       "      <td>http://en.wikipedia.org/wiki/Jack_Aitken</td>\n",
       "    </tr>\n",
       "  </tbody>\n",
       "</table>\n",
       "<p>850 rows × 9 columns</p>\n",
       "</div>"
      ],
      "text/plain": [
       "     driverId          driverRef number code   forename     surname  \\\n",
       "0           1           hamilton     44  HAM      Lewis    Hamilton   \n",
       "1           2           heidfeld     \\N  HEI       Nick    Heidfeld   \n",
       "2           3            rosberg      6  ROS       Nico     Rosberg   \n",
       "3           4             alonso     14  ALO   Fernando      Alonso   \n",
       "4           5         kovalainen     \\N  KOV     Heikki  Kovalainen   \n",
       "..        ...                ...    ...  ...        ...         ...   \n",
       "845       847            russell     63  RUS     George     Russell   \n",
       "846       848              albon     23  ALB  Alexander       Albon   \n",
       "847       849             latifi      6  LAT   Nicholas      Latifi   \n",
       "848       850  pietro_fittipaldi     51  FIT     Pietro  Fittipaldi   \n",
       "849       851             aitken     89  AIT       Jack      Aitken   \n",
       "\n",
       "            dob nationality                                                url  \n",
       "0    1985-01-07     British        http://en.wikipedia.org/wiki/Lewis_Hamilton  \n",
       "1    1977-05-10      German         http://en.wikipedia.org/wiki/Nick_Heidfeld  \n",
       "2    1985-06-27      German          http://en.wikipedia.org/wiki/Nico_Rosberg  \n",
       "3    1981-07-29     Spanish       http://en.wikipedia.org/wiki/Fernando_Alonso  \n",
       "4    1981-10-19     Finnish     http://en.wikipedia.org/wiki/Heikki_Kovalainen  \n",
       "..          ...         ...                                                ...  \n",
       "845  1998-02-15     British  http://en.wikipedia.org/wiki/George_Russell_%2...  \n",
       "846  1996-03-23        Thai       http://en.wikipedia.org/wiki/Alexander_Albon  \n",
       "847  1995-06-29    Canadian       http://en.wikipedia.org/wiki/Nicholas_Latifi  \n",
       "848  1996-06-25   Brazilian     http://en.wikipedia.org/wiki/Pietro_Fittipaldi  \n",
       "849  1995-09-23     British           http://en.wikipedia.org/wiki/Jack_Aitken  \n",
       "\n",
       "[850 rows x 9 columns]"
      ]
     },
     "execution_count": 3,
     "metadata": {},
     "output_type": "execute_result"
    }
   ],
   "source": [
    "pd.read_csv(\"./data/drivers.csv\")"
   ]
  },
  {
   "cell_type": "code",
   "execution_count": 4,
   "metadata": {},
   "outputs": [],
   "source": [
    "data = pd.read_csv(\"./data/drivers.csv\")"
   ]
  },
  {
   "cell_type": "code",
   "execution_count": 5,
   "metadata": {},
   "outputs": [
    {
     "data": {
      "text/plain": [
       "(850, 9)"
      ]
     },
     "execution_count": 5,
     "metadata": {},
     "output_type": "execute_result"
    }
   ],
   "source": [
    "data.shape"
   ]
  },
  {
   "cell_type": "code",
   "execution_count": 6,
   "metadata": {},
   "outputs": [
    {
     "data": {
      "text/plain": [
       "Index(['driverId', 'driverRef', 'number', 'code', 'forename', 'surname', 'dob',\n",
       "       'nationality', 'url'],\n",
       "      dtype='object')"
      ]
     },
     "execution_count": 6,
     "metadata": {},
     "output_type": "execute_result"
    }
   ],
   "source": [
    "data.columns"
   ]
  },
  {
   "cell_type": "code",
   "execution_count": 7,
   "metadata": {},
   "outputs": [],
   "source": [
    "data = data.drop([\"driverId\", \"number\", \"url\"], axis=1)"
   ]
  },
  {
   "cell_type": "code",
   "execution_count": 8,
   "metadata": {},
   "outputs": [
    {
     "data": {
      "text/html": [
       "<div>\n",
       "<style scoped>\n",
       "    .dataframe tbody tr th:only-of-type {\n",
       "        vertical-align: middle;\n",
       "    }\n",
       "\n",
       "    .dataframe tbody tr th {\n",
       "        vertical-align: top;\n",
       "    }\n",
       "\n",
       "    .dataframe thead th {\n",
       "        text-align: right;\n",
       "    }\n",
       "</style>\n",
       "<table border=\"1\" class=\"dataframe\">\n",
       "  <thead>\n",
       "    <tr style=\"text-align: right;\">\n",
       "      <th></th>\n",
       "      <th>driverRef</th>\n",
       "      <th>code</th>\n",
       "      <th>forename</th>\n",
       "      <th>surname</th>\n",
       "      <th>dob</th>\n",
       "      <th>nationality</th>\n",
       "    </tr>\n",
       "  </thead>\n",
       "  <tbody>\n",
       "    <tr>\n",
       "      <th>0</th>\n",
       "      <td>hamilton</td>\n",
       "      <td>HAM</td>\n",
       "      <td>Lewis</td>\n",
       "      <td>Hamilton</td>\n",
       "      <td>1985-01-07</td>\n",
       "      <td>British</td>\n",
       "    </tr>\n",
       "    <tr>\n",
       "      <th>1</th>\n",
       "      <td>heidfeld</td>\n",
       "      <td>HEI</td>\n",
       "      <td>Nick</td>\n",
       "      <td>Heidfeld</td>\n",
       "      <td>1977-05-10</td>\n",
       "      <td>German</td>\n",
       "    </tr>\n",
       "    <tr>\n",
       "      <th>2</th>\n",
       "      <td>rosberg</td>\n",
       "      <td>ROS</td>\n",
       "      <td>Nico</td>\n",
       "      <td>Rosberg</td>\n",
       "      <td>1985-06-27</td>\n",
       "      <td>German</td>\n",
       "    </tr>\n",
       "    <tr>\n",
       "      <th>3</th>\n",
       "      <td>alonso</td>\n",
       "      <td>ALO</td>\n",
       "      <td>Fernando</td>\n",
       "      <td>Alonso</td>\n",
       "      <td>1981-07-29</td>\n",
       "      <td>Spanish</td>\n",
       "    </tr>\n",
       "    <tr>\n",
       "      <th>4</th>\n",
       "      <td>kovalainen</td>\n",
       "      <td>KOV</td>\n",
       "      <td>Heikki</td>\n",
       "      <td>Kovalainen</td>\n",
       "      <td>1981-10-19</td>\n",
       "      <td>Finnish</td>\n",
       "    </tr>\n",
       "  </tbody>\n",
       "</table>\n",
       "</div>"
      ],
      "text/plain": [
       "    driverRef code  forename     surname         dob nationality\n",
       "0    hamilton  HAM     Lewis    Hamilton  1985-01-07     British\n",
       "1    heidfeld  HEI      Nick    Heidfeld  1977-05-10      German\n",
       "2     rosberg  ROS      Nico     Rosberg  1985-06-27      German\n",
       "3      alonso  ALO  Fernando      Alonso  1981-07-29     Spanish\n",
       "4  kovalainen  KOV    Heikki  Kovalainen  1981-10-19     Finnish"
      ]
     },
     "execution_count": 8,
     "metadata": {},
     "output_type": "execute_result"
    }
   ],
   "source": [
    "data.head()"
   ]
  },
  {
   "cell_type": "code",
   "execution_count": 9,
   "metadata": {},
   "outputs": [],
   "source": [
    "data = data.drop([\"driverRef\", \"code\"], axis=1)"
   ]
  },
  {
   "cell_type": "code",
   "execution_count": 10,
   "metadata": {},
   "outputs": [
    {
     "data": {
      "text/html": [
       "<div>\n",
       "<style scoped>\n",
       "    .dataframe tbody tr th:only-of-type {\n",
       "        vertical-align: middle;\n",
       "    }\n",
       "\n",
       "    .dataframe tbody tr th {\n",
       "        vertical-align: top;\n",
       "    }\n",
       "\n",
       "    .dataframe thead th {\n",
       "        text-align: right;\n",
       "    }\n",
       "</style>\n",
       "<table border=\"1\" class=\"dataframe\">\n",
       "  <thead>\n",
       "    <tr style=\"text-align: right;\">\n",
       "      <th></th>\n",
       "      <th>forename</th>\n",
       "      <th>surname</th>\n",
       "      <th>dob</th>\n",
       "      <th>nationality</th>\n",
       "    </tr>\n",
       "  </thead>\n",
       "  <tbody>\n",
       "    <tr>\n",
       "      <th>0</th>\n",
       "      <td>Lewis</td>\n",
       "      <td>Hamilton</td>\n",
       "      <td>1985-01-07</td>\n",
       "      <td>British</td>\n",
       "    </tr>\n",
       "    <tr>\n",
       "      <th>1</th>\n",
       "      <td>Nick</td>\n",
       "      <td>Heidfeld</td>\n",
       "      <td>1977-05-10</td>\n",
       "      <td>German</td>\n",
       "    </tr>\n",
       "    <tr>\n",
       "      <th>2</th>\n",
       "      <td>Nico</td>\n",
       "      <td>Rosberg</td>\n",
       "      <td>1985-06-27</td>\n",
       "      <td>German</td>\n",
       "    </tr>\n",
       "    <tr>\n",
       "      <th>3</th>\n",
       "      <td>Fernando</td>\n",
       "      <td>Alonso</td>\n",
       "      <td>1981-07-29</td>\n",
       "      <td>Spanish</td>\n",
       "    </tr>\n",
       "    <tr>\n",
       "      <th>4</th>\n",
       "      <td>Heikki</td>\n",
       "      <td>Kovalainen</td>\n",
       "      <td>1981-10-19</td>\n",
       "      <td>Finnish</td>\n",
       "    </tr>\n",
       "  </tbody>\n",
       "</table>\n",
       "</div>"
      ],
      "text/plain": [
       "   forename     surname         dob nationality\n",
       "0     Lewis    Hamilton  1985-01-07     British\n",
       "1      Nick    Heidfeld  1977-05-10      German\n",
       "2      Nico     Rosberg  1985-06-27      German\n",
       "3  Fernando      Alonso  1981-07-29     Spanish\n",
       "4    Heikki  Kovalainen  1981-10-19     Finnish"
      ]
     },
     "execution_count": 10,
     "metadata": {},
     "output_type": "execute_result"
    }
   ],
   "source": [
    "data.head()"
   ]
  },
  {
   "cell_type": "code",
   "execution_count": 11,
   "metadata": {},
   "outputs": [
    {
     "data": {
      "text/html": [
       "<div>\n",
       "<style scoped>\n",
       "    .dataframe tbody tr th:only-of-type {\n",
       "        vertical-align: middle;\n",
       "    }\n",
       "\n",
       "    .dataframe tbody tr th {\n",
       "        vertical-align: top;\n",
       "    }\n",
       "\n",
       "    .dataframe thead th {\n",
       "        text-align: right;\n",
       "    }\n",
       "</style>\n",
       "<table border=\"1\" class=\"dataframe\">\n",
       "  <thead>\n",
       "    <tr style=\"text-align: right;\">\n",
       "      <th></th>\n",
       "      <th>forename</th>\n",
       "      <th>surname</th>\n",
       "      <th>dob</th>\n",
       "      <th>nationality</th>\n",
       "    </tr>\n",
       "  </thead>\n",
       "  <tbody>\n",
       "    <tr>\n",
       "      <th>count</th>\n",
       "      <td>850</td>\n",
       "      <td>850</td>\n",
       "      <td>850</td>\n",
       "      <td>850</td>\n",
       "    </tr>\n",
       "    <tr>\n",
       "      <th>unique</th>\n",
       "      <td>470</td>\n",
       "      <td>792</td>\n",
       "      <td>832</td>\n",
       "      <td>41</td>\n",
       "    </tr>\n",
       "    <tr>\n",
       "      <th>top</th>\n",
       "      <td>John</td>\n",
       "      <td>Taylor</td>\n",
       "      <td>1920-09-04</td>\n",
       "      <td>British</td>\n",
       "    </tr>\n",
       "    <tr>\n",
       "      <th>freq</th>\n",
       "      <td>14</td>\n",
       "      <td>5</td>\n",
       "      <td>2</td>\n",
       "      <td>165</td>\n",
       "    </tr>\n",
       "  </tbody>\n",
       "</table>\n",
       "</div>"
      ],
      "text/plain": [
       "       forename surname         dob nationality\n",
       "count       850     850         850         850\n",
       "unique      470     792         832          41\n",
       "top        John  Taylor  1920-09-04     British\n",
       "freq         14       5           2         165"
      ]
     },
     "execution_count": 11,
     "metadata": {},
     "output_type": "execute_result"
    }
   ],
   "source": [
    "data.describe()"
   ]
  },
  {
   "cell_type": "code",
   "execution_count": 12,
   "metadata": {},
   "outputs": [],
   "source": [
    "data = data.dropna(axis=0)"
   ]
  },
  {
   "cell_type": "code",
   "execution_count": 13,
   "metadata": {},
   "outputs": [
    {
     "data": {
      "text/plain": [
       "(850, 4)"
      ]
     },
     "execution_count": 13,
     "metadata": {},
     "output_type": "execute_result"
    }
   ],
   "source": [
    "data.shape"
   ]
  },
  {
   "cell_type": "code",
   "execution_count": 14,
   "metadata": {},
   "outputs": [
    {
     "data": {
      "text/plain": [
       "British              165\n",
       "American             157\n",
       "Italian               99\n",
       "French                73\n",
       "German                49\n",
       "Brazilian             32\n",
       "Argentine             24\n",
       "Belgian               23\n",
       "South African         23\n",
       "Swiss                 23\n",
       "Japanese              19\n",
       "Australian            17\n",
       "Dutch                 17\n",
       "Austrian              15\n",
       "Spanish               15\n",
       "Canadian              14\n",
       "Swedish               10\n",
       "New Zealander          9\n",
       "Finnish                9\n",
       "Mexican                6\n",
       "Irish                  5\n",
       "Danish                 5\n",
       "Rhodesian              4\n",
       "Portuguese             4\n",
       "Monegasque             4\n",
       "Uruguayan              4\n",
       "Russian                3\n",
       "Venezuelan             3\n",
       "Colombian              3\n",
       "East German            3\n",
       "Thai                   2\n",
       "Indian                 2\n",
       "Czech                  1\n",
       "Hungarian              1\n",
       "Chilean                1\n",
       "Liechtensteiner        1\n",
       "Indonesian             1\n",
       "Argentine-Italian      1\n",
       "American-Italian       1\n",
       "Malaysian              1\n",
       "Polish                 1\n",
       "Name: nationality, dtype: int64"
      ]
     },
     "execution_count": 14,
     "metadata": {},
     "output_type": "execute_result"
    }
   ],
   "source": [
    "data[\"nationality\"].value_counts()"
   ]
  },
  {
   "cell_type": "code",
   "execution_count": 15,
   "metadata": {},
   "outputs": [
    {
     "data": {
      "text/plain": [
       "<AxesSubplot:>"
      ]
     },
     "execution_count": 15,
     "metadata": {},
     "output_type": "execute_result"
    },
    {
     "data": {
      "image/png": "[encoded data removed]",
      "text/plain": [
       "<Figure size 432x288 with 1 Axes>"
      ]
     },
     "metadata": {
      "needs_background": "light"
     },
     "output_type": "display_data"
    }
   ],
   "source": [
    "data[\"nationality\"].value_counts().plot.bar()"
   ]
  },
  {
   "cell_type": "code",
   "execution_count": 16,
   "metadata": {},
   "outputs": [
    {
     "data": {
      "text/html": [
       "<div>\n",
       "<style scoped>\n",
       "    .dataframe tbody tr th:only-of-type {\n",
       "        vertical-align: middle;\n",
       "    }\n",
       "\n",
       "    .dataframe tbody tr th {\n",
       "        vertical-align: top;\n",
       "    }\n",
       "\n",
       "    .dataframe thead th {\n",
       "        text-align: right;\n",
       "    }\n",
       "</style>\n",
       "<table border=\"1\" class=\"dataframe\">\n",
       "  <thead>\n",
       "    <tr style=\"text-align: right;\">\n",
       "      <th></th>\n",
       "      <th>forename</th>\n",
       "      <th>surname</th>\n",
       "      <th>dob</th>\n",
       "      <th>nationality</th>\n",
       "    </tr>\n",
       "  </thead>\n",
       "  <tbody>\n",
       "    <tr>\n",
       "      <th>844</th>\n",
       "      <td>Lando</td>\n",
       "      <td>Norris</td>\n",
       "      <td>1999-11-13</td>\n",
       "      <td>British</td>\n",
       "    </tr>\n",
       "    <tr>\n",
       "      <th>839</th>\n",
       "      <td>Lance</td>\n",
       "      <td>Stroll</td>\n",
       "      <td>1998-10-29</td>\n",
       "      <td>Canadian</td>\n",
       "    </tr>\n",
       "    <tr>\n",
       "      <th>845</th>\n",
       "      <td>George</td>\n",
       "      <td>Russell</td>\n",
       "      <td>1998-02-15</td>\n",
       "      <td>British</td>\n",
       "    </tr>\n",
       "    <tr>\n",
       "      <th>842</th>\n",
       "      <td>Charles</td>\n",
       "      <td>Leclerc</td>\n",
       "      <td>1997-10-16</td>\n",
       "      <td>Monegasque</td>\n",
       "    </tr>\n",
       "    <tr>\n",
       "      <th>829</th>\n",
       "      <td>Max</td>\n",
       "      <td>Verstappen</td>\n",
       "      <td>1997-09-30</td>\n",
       "      <td>Dutch</td>\n",
       "    </tr>\n",
       "    <tr>\n",
       "      <th>...</th>\n",
       "      <td>...</td>\n",
       "      <td>...</td>\n",
       "      <td>...</td>\n",
       "      <td>...</td>\n",
       "    </tr>\n",
       "    <tr>\n",
       "      <th>589</th>\n",
       "      <td>Louis</td>\n",
       "      <td>Chiron</td>\n",
       "      <td>1899-08-03</td>\n",
       "      <td>Monegasque</td>\n",
       "    </tr>\n",
       "    <tr>\n",
       "      <th>703</th>\n",
       "      <td>Arthur</td>\n",
       "      <td>Legat</td>\n",
       "      <td>1898-11-01</td>\n",
       "      <td>Belgian</td>\n",
       "    </tr>\n",
       "    <tr>\n",
       "      <th>791</th>\n",
       "      <td>Clemente</td>\n",
       "      <td>Biondetti</td>\n",
       "      <td>1898-08-18</td>\n",
       "      <td>Italian</td>\n",
       "    </tr>\n",
       "    <tr>\n",
       "      <th>786</th>\n",
       "      <td>Luigi</td>\n",
       "      <td>Fagioli</td>\n",
       "      <td>1898-06-09</td>\n",
       "      <td>Italian</td>\n",
       "    </tr>\n",
       "    <tr>\n",
       "      <th>741</th>\n",
       "      <td>Philippe</td>\n",
       "      <td>Étancelin</td>\n",
       "      <td>1896-12-28</td>\n",
       "      <td>French</td>\n",
       "    </tr>\n",
       "  </tbody>\n",
       "</table>\n",
       "<p>850 rows × 4 columns</p>\n",
       "</div>"
      ],
      "text/plain": [
       "     forename     surname         dob nationality\n",
       "844     Lando      Norris  1999-11-13     British\n",
       "839     Lance      Stroll  1998-10-29    Canadian\n",
       "845    George     Russell  1998-02-15     British\n",
       "842   Charles     Leclerc  1997-10-16  Monegasque\n",
       "829       Max  Verstappen  1997-09-30       Dutch\n",
       "..        ...         ...         ...         ...\n",
       "589     Louis      Chiron  1899-08-03  Monegasque\n",
       "703    Arthur       Legat  1898-11-01     Belgian\n",
       "791  Clemente   Biondetti  1898-08-18     Italian\n",
       "786     Luigi     Fagioli  1898-06-09     Italian\n",
       "741  Philippe   Étancelin  1896-12-28      French\n",
       "\n",
       "[850 rows x 4 columns]"
      ]
     },
     "execution_count": 16,
     "metadata": {},
     "output_type": "execute_result"
    }
   ],
   "source": [
    "data.sort_values('dob', ascending=False)"
   ]
  },
  {
   "cell_type": "code",
   "execution_count": null,
   "metadata": {},
   "outputs": [],
   "source": []
  }
 ],
 "metadata": {
  "kernelspec": {
   "display_name": "Python 3",
   "language": "python",
   "name": "python3"
  },
  "language_info": {
   "codemirror_mode": {
    "name": "ipython",
    "version": 3
   },
   "file_extension": ".py",
   "mimetype": "text/x-python",
   "name": "python",
   "nbconvert_exporter": "python",
   "pygments_lexer": "ipython3",
   "version": "3.8.6"
  }
 },
 "nbformat": 4,
 "nbformat_minor": 4
}
