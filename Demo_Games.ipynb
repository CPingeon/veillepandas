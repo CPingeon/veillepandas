{
 "cells": [
  {
   "cell_type": "code",
   "execution_count": 2,
   "metadata": {},
   "outputs": [],
   "source": [
    "import numpy as np\n",
    "import matplotlib.pyplot as plt\n",
    "import pandas as pd"
   ]
  },
  {
   "cell_type": "code",
   "execution_count": 3,
   "metadata": {},
   "outputs": [
    {
     "data": {
      "text/html": [
       "<div>\n",
       "<style scoped>\n",
       "    .dataframe tbody tr th:only-of-type {\n",
       "        vertical-align: middle;\n",
       "    }\n",
       "\n",
       "    .dataframe tbody tr th {\n",
       "        vertical-align: top;\n",
       "    }\n",
       "\n",
       "    .dataframe thead th {\n",
       "        text-align: right;\n",
       "    }\n",
       "</style>\n",
       "<table border=\"1\" class=\"dataframe\">\n",
       "  <thead>\n",
       "    <tr style=\"text-align: right;\">\n",
       "      <th></th>\n",
       "      <th>Année 1</th>\n",
       "      <th>Année 2</th>\n",
       "      <th>Mois</th>\n",
       "      <th>Jour</th>\n",
       "      <th>Compétition 1</th>\n",
       "      <th>Compétition 2</th>\n",
       "      <th>Résultat</th>\n",
       "      <th>Equipe 1</th>\n",
       "      <th>Score 1</th>\n",
       "      <th>Score 2</th>\n",
       "      <th>Equipe 2</th>\n",
       "      <th>Lieu</th>\n",
       "    </tr>\n",
       "  </thead>\n",
       "  <tbody>\n",
       "    <tr>\n",
       "      <th>0</th>\n",
       "      <td>2009-2010</td>\n",
       "      <td>2009.0</td>\n",
       "      <td>12</td>\n",
       "      <td>16.0</td>\n",
       "      <td>Starligue</td>\n",
       "      <td>J13</td>\n",
       "      <td>D</td>\n",
       "      <td>HBCN</td>\n",
       "      <td>30.0</td>\n",
       "      <td>32.0</td>\n",
       "      <td>Dunkerque</td>\n",
       "      <td>Mangin-Beaulieu</td>\n",
       "    </tr>\n",
       "    <tr>\n",
       "      <th>1</th>\n",
       "      <td>NaN</td>\n",
       "      <td>2010.0</td>\n",
       "      <td>5</td>\n",
       "      <td>19.0</td>\n",
       "      <td>Starligue</td>\n",
       "      <td>J24</td>\n",
       "      <td>D</td>\n",
       "      <td>HBCN</td>\n",
       "      <td>24.0</td>\n",
       "      <td>31.0</td>\n",
       "      <td>Montpellier</td>\n",
       "      <td>Palais des Sports</td>\n",
       "    </tr>\n",
       "    <tr>\n",
       "      <th>2</th>\n",
       "      <td>2012-2013</td>\n",
       "      <td>2013.0</td>\n",
       "      <td>5</td>\n",
       "      <td>18.0</td>\n",
       "      <td>EHF Cup</td>\n",
       "      <td>1/2 finale</td>\n",
       "      <td>V</td>\n",
       "      <td>HBCN</td>\n",
       "      <td>26.0</td>\n",
       "      <td>20.0</td>\n",
       "      <td>Holstebro</td>\n",
       "      <td>Palais des Sports</td>\n",
       "    </tr>\n",
       "    <tr>\n",
       "      <th>3</th>\n",
       "      <td>NaN</td>\n",
       "      <td>2013.0</td>\n",
       "      <td>5</td>\n",
       "      <td>19.0</td>\n",
       "      <td>EHF Cup</td>\n",
       "      <td>Finale</td>\n",
       "      <td>D</td>\n",
       "      <td>HBCN</td>\n",
       "      <td>24.0</td>\n",
       "      <td>26.0</td>\n",
       "      <td>Rhein-Neckar</td>\n",
       "      <td>Palais des Sports</td>\n",
       "    </tr>\n",
       "    <tr>\n",
       "      <th>4</th>\n",
       "      <td>2014-2015</td>\n",
       "      <td>2015.0</td>\n",
       "      <td>4</td>\n",
       "      <td>17.0</td>\n",
       "      <td>Ligue AF</td>\n",
       "      <td>Playoffs</td>\n",
       "      <td>D</td>\n",
       "      <td>VBN</td>\n",
       "      <td>0.0</td>\n",
       "      <td>3.0</td>\n",
       "      <td>Béziers</td>\n",
       "      <td>Saint-Joseph</td>\n",
       "    </tr>\n",
       "    <tr>\n",
       "      <th>...</th>\n",
       "      <td>...</td>\n",
       "      <td>...</td>\n",
       "      <td>...</td>\n",
       "      <td>...</td>\n",
       "      <td>...</td>\n",
       "      <td>...</td>\n",
       "      <td>...</td>\n",
       "      <td>...</td>\n",
       "      <td>...</td>\n",
       "      <td>...</td>\n",
       "      <td>...</td>\n",
       "      <td>...</td>\n",
       "    </tr>\n",
       "    <tr>\n",
       "      <th>248</th>\n",
       "      <td>NaN</td>\n",
       "      <td>2020.0</td>\n",
       "      <td>2</td>\n",
       "      <td>27.0</td>\n",
       "      <td>Starligue</td>\n",
       "      <td>J17</td>\n",
       "      <td>N</td>\n",
       "      <td>HBCN</td>\n",
       "      <td>29.0</td>\n",
       "      <td>29.0</td>\n",
       "      <td>Paris</td>\n",
       "      <td>Palais des Sports</td>\n",
       "    </tr>\n",
       "    <tr>\n",
       "      <th>249</th>\n",
       "      <td>NaN</td>\n",
       "      <td>2020.0</td>\n",
       "      <td>2</td>\n",
       "      <td>29.0</td>\n",
       "      <td>Ligue AF</td>\n",
       "      <td>J23</td>\n",
       "      <td>V</td>\n",
       "      <td>VBN</td>\n",
       "      <td>3.0</td>\n",
       "      <td>0.0</td>\n",
       "      <td>France Avenir 2024</td>\n",
       "      <td>Mangin-Beaulieu</td>\n",
       "    </tr>\n",
       "    <tr>\n",
       "      <th>250</th>\n",
       "      <td>NaN</td>\n",
       "      <td>NaN</td>\n",
       "      <td>NaN</td>\n",
       "      <td>NaN</td>\n",
       "      <td>NaN</td>\n",
       "      <td>NaN</td>\n",
       "      <td>NaN</td>\n",
       "      <td>NaN</td>\n",
       "      <td>NaN</td>\n",
       "      <td>NaN</td>\n",
       "      <td>NaN</td>\n",
       "      <td>NaN</td>\n",
       "    </tr>\n",
       "    <tr>\n",
       "      <th>251</th>\n",
       "      <td>NaN</td>\n",
       "      <td>NaN</td>\n",
       "      <td>NaN</td>\n",
       "      <td>NaN</td>\n",
       "      <td>NaN</td>\n",
       "      <td>NaN</td>\n",
       "      <td>NaN</td>\n",
       "      <td>NaN</td>\n",
       "      <td>NaN</td>\n",
       "      <td>NaN</td>\n",
       "      <td>NaN</td>\n",
       "      <td>NaN</td>\n",
       "    </tr>\n",
       "    <tr>\n",
       "      <th>252</th>\n",
       "      <td>NaN</td>\n",
       "      <td>NaN</td>\n",
       "      <td></td>\n",
       "      <td>NaN</td>\n",
       "      <td>NaN</td>\n",
       "      <td>NaN</td>\n",
       "      <td>NaN</td>\n",
       "      <td>NaN</td>\n",
       "      <td>NaN</td>\n",
       "      <td>NaN</td>\n",
       "      <td>NaN</td>\n",
       "      <td>NaN</td>\n",
       "    </tr>\n",
       "  </tbody>\n",
       "</table>\n",
       "<p>253 rows × 12 columns</p>\n",
       "</div>"
      ],
      "text/plain": [
       "       Année 1  Année 2 Mois  Jour Compétition 1 Compétition 2 Résultat  \\\n",
       "0    2009-2010   2009.0   12  16.0     Starligue           J13        D   \n",
       "1          NaN   2010.0    5  19.0     Starligue           J24        D   \n",
       "2    2012-2013   2013.0    5  18.0       EHF Cup    1/2 finale        V   \n",
       "3          NaN   2013.0    5  19.0       EHF Cup        Finale        D   \n",
       "4    2014-2015   2015.0    4  17.0      Ligue AF      Playoffs        D   \n",
       "..         ...      ...  ...   ...           ...           ...      ...   \n",
       "248        NaN   2020.0    2  27.0     Starligue           J17        N   \n",
       "249        NaN   2020.0    2  29.0      Ligue AF           J23        V   \n",
       "250        NaN      NaN  NaN   NaN           NaN           NaN      NaN   \n",
       "251        NaN      NaN  NaN   NaN           NaN           NaN      NaN   \n",
       "252        NaN      NaN        NaN           NaN           NaN      NaN   \n",
       "\n",
       "    Equipe 1  Score 1  Score 2            Equipe 2               Lieu  \n",
       "0       HBCN     30.0     32.0           Dunkerque    Mangin-Beaulieu  \n",
       "1       HBCN     24.0     31.0         Montpellier  Palais des Sports  \n",
       "2       HBCN     26.0     20.0           Holstebro  Palais des Sports  \n",
       "3       HBCN     24.0     26.0        Rhein-Neckar  Palais des Sports  \n",
       "4        VBN      0.0      3.0             Béziers       Saint-Joseph  \n",
       "..       ...      ...      ...                 ...                ...  \n",
       "248     HBCN     29.0     29.0               Paris  Palais des Sports  \n",
       "249      VBN      3.0      0.0  France Avenir 2024    Mangin-Beaulieu  \n",
       "250      NaN      NaN      NaN                 NaN                NaN  \n",
       "251      NaN      NaN      NaN                 NaN                NaN  \n",
       "252      NaN      NaN      NaN                 NaN                NaN  \n",
       "\n",
       "[253 rows x 12 columns]"
      ]
     },
     "execution_count": 3,
     "metadata": {},
     "output_type": "execute_result"
    }
   ],
   "source": [
    "pd.read_excel(\"./data/games.xls\")"
   ]
  },
  {
   "cell_type": "code",
   "execution_count": 6,
   "metadata": {},
   "outputs": [],
   "source": [
    "data = pd.read_excel(\"./data/games.xls\")"
   ]
  },
  {
   "cell_type": "code",
   "execution_count": 7,
   "metadata": {},
   "outputs": [
    {
     "data": {
      "text/plain": [
       "(253, 12)"
      ]
     },
     "execution_count": 7,
     "metadata": {},
     "output_type": "execute_result"
    }
   ],
   "source": [
    "data.shape"
   ]
  },
  {
   "cell_type": "code",
   "execution_count": 8,
   "metadata": {},
   "outputs": [
    {
     "data": {
      "text/plain": [
       "Index(['Année 1', 'Année 2', 'Mois', 'Jour', 'Compétition 1', 'Compétition 2',\n",
       "       'Résultat', 'Equipe 1', 'Score 1', 'Score 2', 'Equipe 2', 'Lieu'],\n",
       "      dtype='object')"
      ]
     },
     "execution_count": 8,
     "metadata": {},
     "output_type": "execute_result"
    }
   ],
   "source": [
    "data.columns"
   ]
  },
  {
   "cell_type": "code",
   "execution_count": 9,
   "metadata": {},
   "outputs": [],
   "source": [
    "data = data.drop([\"Compétition 1\", \"Compétition 2\", \"Jour\", \"Mois\", \"Score 1\", \"Score 2\"], axis=1)"
   ]
  },
  {
   "cell_type": "code",
   "execution_count": 10,
   "metadata": {},
   "outputs": [
    {
     "data": {
      "text/html": [
       "<div>\n",
       "<style scoped>\n",
       "    .dataframe tbody tr th:only-of-type {\n",
       "        vertical-align: middle;\n",
       "    }\n",
       "\n",
       "    .dataframe tbody tr th {\n",
       "        vertical-align: top;\n",
       "    }\n",
       "\n",
       "    .dataframe thead th {\n",
       "        text-align: right;\n",
       "    }\n",
       "</style>\n",
       "<table border=\"1\" class=\"dataframe\">\n",
       "  <thead>\n",
       "    <tr style=\"text-align: right;\">\n",
       "      <th></th>\n",
       "      <th>Année 1</th>\n",
       "      <th>Année 2</th>\n",
       "      <th>Résultat</th>\n",
       "      <th>Equipe 1</th>\n",
       "      <th>Equipe 2</th>\n",
       "      <th>Lieu</th>\n",
       "    </tr>\n",
       "  </thead>\n",
       "  <tbody>\n",
       "    <tr>\n",
       "      <th>0</th>\n",
       "      <td>2009-2010</td>\n",
       "      <td>2009.0</td>\n",
       "      <td>D</td>\n",
       "      <td>HBCN</td>\n",
       "      <td>Dunkerque</td>\n",
       "      <td>Mangin-Beaulieu</td>\n",
       "    </tr>\n",
       "    <tr>\n",
       "      <th>1</th>\n",
       "      <td>NaN</td>\n",
       "      <td>2010.0</td>\n",
       "      <td>D</td>\n",
       "      <td>HBCN</td>\n",
       "      <td>Montpellier</td>\n",
       "      <td>Palais des Sports</td>\n",
       "    </tr>\n",
       "    <tr>\n",
       "      <th>2</th>\n",
       "      <td>2012-2013</td>\n",
       "      <td>2013.0</td>\n",
       "      <td>V</td>\n",
       "      <td>HBCN</td>\n",
       "      <td>Holstebro</td>\n",
       "      <td>Palais des Sports</td>\n",
       "    </tr>\n",
       "    <tr>\n",
       "      <th>3</th>\n",
       "      <td>NaN</td>\n",
       "      <td>2013.0</td>\n",
       "      <td>D</td>\n",
       "      <td>HBCN</td>\n",
       "      <td>Rhein-Neckar</td>\n",
       "      <td>Palais des Sports</td>\n",
       "    </tr>\n",
       "    <tr>\n",
       "      <th>4</th>\n",
       "      <td>2014-2015</td>\n",
       "      <td>2015.0</td>\n",
       "      <td>D</td>\n",
       "      <td>VBN</td>\n",
       "      <td>Béziers</td>\n",
       "      <td>Saint-Joseph</td>\n",
       "    </tr>\n",
       "  </tbody>\n",
       "</table>\n",
       "</div>"
      ],
      "text/plain": [
       "     Année 1  Année 2 Résultat Equipe 1      Equipe 2               Lieu\n",
       "0  2009-2010   2009.0        D     HBCN     Dunkerque    Mangin-Beaulieu\n",
       "1        NaN   2010.0        D     HBCN   Montpellier  Palais des Sports\n",
       "2  2012-2013   2013.0        V     HBCN     Holstebro  Palais des Sports\n",
       "3        NaN   2013.0        D     HBCN  Rhein-Neckar  Palais des Sports\n",
       "4  2014-2015   2015.0        D      VBN       Béziers       Saint-Joseph"
      ]
     },
     "execution_count": 10,
     "metadata": {},
     "output_type": "execute_result"
    }
   ],
   "source": [
    "data.head()"
   ]
  },
  {
   "cell_type": "code",
   "execution_count": 23,
   "metadata": {},
   "outputs": [
    {
     "data": {
      "text/plain": [
       "VBN          76\n",
       "HBCN         55\n",
       "NRB          43\n",
       "NLA          31\n",
       "NRMV         22\n",
       "France       11\n",
       "Corsaires     7\n",
       "Hermine       5\n",
       "Name: Equipe 1, dtype: int64"
      ]
     },
     "execution_count": 23,
     "metadata": {},
     "output_type": "execute_result"
    }
   ],
   "source": [
    "data[\"Equipe 1\"].value_counts()"
   ]
  },
  {
   "cell_type": "code",
   "execution_count": 19,
   "metadata": {},
   "outputs": [
    {
     "data": {
      "text/plain": [
       "<AxesSubplot:>"
      ]
     },
     "execution_count": 19,
     "metadata": {},
     "output_type": "execute_result"
    },
    {
     "data": {
      "image/png": "[encoded data removed]",
      "text/plain": [
       "<Figure size 432x288 with 1 Axes>"
      ]
     },
     "metadata": {
      "needs_background": "light"
     },
     "output_type": "display_data"
    }
   ],
   "source": [
    "data[\"Equipe 1\"].value_counts().plot.bar()"
   ]
  },
  {
   "cell_type": "code",
   "execution_count": null,
   "metadata": {},
   "outputs": [],
   "source": []
  }
 ],
 "metadata": {
  "kernelspec": {
   "display_name": "Python 3",
   "language": "python",
   "name": "python3"
  },
  "language_info": {
   "codemirror_mode": {
    "name": "ipython",
    "version": 3
   },
   "file_extension": ".py",
   "mimetype": "text/x-python",
   "name": "python",
   "nbconvert_exporter": "python",
   "pygments_lexer": "ipython3",
   "version": "3.8.6"
  }
 },
 "nbformat": 4,
 "nbformat_minor": 4
}
